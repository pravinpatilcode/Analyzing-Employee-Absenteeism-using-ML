{
  "cells": [
    {
      "cell_type": "code",
      "execution_count": null,
      "id": "bae20aad-74ab-405e-87bc-a562aba5cf23",
      "metadata": {
        "id": "bae20aad-74ab-405e-87bc-a562aba5cf23"
      },
      "outputs": [],
      "source": [
        "import pandas as pd\n",
        "from sklearn.preprocessing import MinMaxScaler\n",
        "from sklearn.model_selection import train_test_split\n",
        "import matplotlib.pyplot as plt\n",
        "import seaborn as sns\n",
        "import warnings\n",
        "warnings.filterwarnings(\"ignore\")"
      ]
    },
    {
      "cell_type": "markdown",
      "id": "254055ef-f57d-481a-b1cb-260e160f95c0",
      "metadata": {
        "id": "254055ef-f57d-481a-b1cb-260e160f95c0"
      },
      "source": [
        "# TASK-1"
      ]
    },
    {
      "cell_type": "code",
      "execution_count": null,
      "id": "7a972865-2e7a-4346-87e9-7df9c8be51d0",
      "metadata": {
        "id": "7a972865-2e7a-4346-87e9-7df9c8be51d0"
      },
      "outputs": [],
      "source": [
        "df=pd.read_csv(\"C:\\\\Users\\\\Admin\\\\Downloads\\\\COURSE_9_NIIT\\\\DS1_C9_S4_Practice_HR_Data.csv\")"
      ]
    },
    {
      "cell_type": "code",
      "execution_count": null,
      "id": "2a01ab9a-f87b-4ae0-b1c1-2943643db406",
      "metadata": {
        "id": "2a01ab9a-f87b-4ae0-b1c1-2943643db406",
        "outputId": "7413c30b-09c3-47f8-c7fe-1d527c795878"
      },
      "outputs": [
        {
          "data": {
            "text/html": [
              "<div>\n",
              "<style scoped>\n",
              "    .dataframe tbody tr th:only-of-type {\n",
              "        vertical-align: middle;\n",
              "    }\n",
              "\n",
              "    .dataframe tbody tr th {\n",
              "        vertical-align: top;\n",
              "    }\n",
              "\n",
              "    .dataframe thead th {\n",
              "        text-align: right;\n",
              "    }\n",
              "</style>\n",
              "<table border=\"1\" class=\"dataframe\">\n",
              "  <thead>\n",
              "    <tr style=\"text-align: right;\">\n",
              "      <th></th>\n",
              "      <th>satisfaction_level</th>\n",
              "      <th>last_evaluation</th>\n",
              "      <th>number_project</th>\n",
              "      <th>average_monthly_hours</th>\n",
              "      <th>time_spend_company</th>\n",
              "      <th>Work_accident</th>\n",
              "      <th>left</th>\n",
              "      <th>promotion_last_5years</th>\n",
              "      <th>Department</th>\n",
              "      <th>salary</th>\n",
              "    </tr>\n",
              "  </thead>\n",
              "  <tbody>\n",
              "    <tr>\n",
              "      <th>0</th>\n",
              "      <td>0.38</td>\n",
              "      <td>0.53</td>\n",
              "      <td>2</td>\n",
              "      <td>157</td>\n",
              "      <td>3</td>\n",
              "      <td>0</td>\n",
              "      <td>1</td>\n",
              "      <td>0</td>\n",
              "      <td>sales</td>\n",
              "      <td>low</td>\n",
              "    </tr>\n",
              "    <tr>\n",
              "      <th>1</th>\n",
              "      <td>0.80</td>\n",
              "      <td>0.86</td>\n",
              "      <td>5</td>\n",
              "      <td>262</td>\n",
              "      <td>6</td>\n",
              "      <td>0</td>\n",
              "      <td>1</td>\n",
              "      <td>0</td>\n",
              "      <td>sales</td>\n",
              "      <td>medium</td>\n",
              "    </tr>\n",
              "  </tbody>\n",
              "</table>\n",
              "</div>"
            ],
            "text/plain": [
              "   satisfaction_level  last_evaluation  number_project  average_monthly_hours  \\\n",
              "0                0.38             0.53               2                    157   \n",
              "1                0.80             0.86               5                    262   \n",
              "\n",
              "   time_spend_company  Work_accident  left  promotion_last_5years Department  \\\n",
              "0                   3              0     1                      0      sales   \n",
              "1                   6              0     1                      0      sales   \n",
              "\n",
              "   salary  \n",
              "0     low  \n",
              "1  medium  "
            ]
          },
          "execution_count": 3,
          "metadata": {},
          "output_type": "execute_result"
        }
      ],
      "source": [
        "df.head(2)"
      ]
    },
    {
      "cell_type": "code",
      "execution_count": null,
      "id": "83716a58-856a-46b0-b836-5d7c9df2b9fe",
      "metadata": {
        "id": "83716a58-856a-46b0-b836-5d7c9df2b9fe",
        "outputId": "775bb200-ccd3-4f98-a6b7-d13bf10d317a"
      },
      "outputs": [
        {
          "data": {
            "text/plain": [
              "Index(['satisfaction_level', 'last_evaluation', 'number_project',\n",
              "       'average_monthly_hours', 'time_spend_company', 'Work_accident', 'left',\n",
              "       'promotion_last_5years', 'Department', 'salary'],\n",
              "      dtype='object')"
            ]
          },
          "execution_count": 4,
          "metadata": {},
          "output_type": "execute_result"
        }
      ],
      "source": [
        "df.columns"
      ]
    },
    {
      "cell_type": "code",
      "execution_count": null,
      "id": "3676d15e-1541-484c-b899-76b6eca5ff5e",
      "metadata": {
        "id": "3676d15e-1541-484c-b899-76b6eca5ff5e",
        "outputId": "286d01ce-196d-41d8-d4ce-dde2c85c3e26"
      },
      "outputs": [
        {
          "data": {
            "text/plain": [
              "(14999, 10)"
            ]
          },
          "execution_count": 5,
          "metadata": {},
          "output_type": "execute_result"
        }
      ],
      "source": [
        "df.shape"
      ]
    },
    {
      "cell_type": "code",
      "execution_count": null,
      "id": "642ba70e-c206-4349-adfd-a4ffeade3fdf",
      "metadata": {
        "id": "642ba70e-c206-4349-adfd-a4ffeade3fdf",
        "outputId": "f1f61a76-c475-409d-9236-79947f7c228c"
      },
      "outputs": [
        {
          "name": "stdout",
          "output_type": "stream",
          "text": [
            "<class 'pandas.core.frame.DataFrame'>\n",
            "RangeIndex: 14999 entries, 0 to 14998\n",
            "Data columns (total 10 columns):\n",
            " #   Column                 Non-Null Count  Dtype  \n",
            "---  ------                 --------------  -----  \n",
            " 0   satisfaction_level     14999 non-null  float64\n",
            " 1   last_evaluation        14999 non-null  float64\n",
            " 2   number_project         14999 non-null  int64  \n",
            " 3   average_monthly_hours  14999 non-null  int64  \n",
            " 4   time_spend_company     14999 non-null  int64  \n",
            " 5   Work_accident          14999 non-null  int64  \n",
            " 6   left                   14999 non-null  int64  \n",
            " 7   promotion_last_5years  14999 non-null  int64  \n",
            " 8   Department             14999 non-null  object \n",
            " 9   salary                 14999 non-null  object \n",
            "dtypes: float64(2), int64(6), object(2)\n",
            "memory usage: 1.1+ MB\n"
          ]
        }
      ],
      "source": [
        "df.info()"
      ]
    },
    {
      "cell_type": "code",
      "execution_count": null,
      "id": "d60dd4ec-7bca-4ea4-85d4-8588cfed30cb",
      "metadata": {
        "id": "d60dd4ec-7bca-4ea4-85d4-8588cfed30cb",
        "outputId": "c9b55110-bdfd-41ad-d0f5-1455c31e7aaf"
      },
      "outputs": [
        {
          "data": {
            "text/html": [
              "<div>\n",
              "<style scoped>\n",
              "    .dataframe tbody tr th:only-of-type {\n",
              "        vertical-align: middle;\n",
              "    }\n",
              "\n",
              "    .dataframe tbody tr th {\n",
              "        vertical-align: top;\n",
              "    }\n",
              "\n",
              "    .dataframe thead th {\n",
              "        text-align: right;\n",
              "    }\n",
              "</style>\n",
              "<table border=\"1\" class=\"dataframe\">\n",
              "  <thead>\n",
              "    <tr style=\"text-align: right;\">\n",
              "      <th></th>\n",
              "      <th>satisfaction_level</th>\n",
              "      <th>last_evaluation</th>\n",
              "      <th>number_project</th>\n",
              "      <th>average_monthly_hours</th>\n",
              "      <th>time_spend_company</th>\n",
              "      <th>Work_accident</th>\n",
              "      <th>left</th>\n",
              "      <th>promotion_last_5years</th>\n",
              "    </tr>\n",
              "  </thead>\n",
              "  <tbody>\n",
              "    <tr>\n",
              "      <th>count</th>\n",
              "      <td>14999.000000</td>\n",
              "      <td>14999.000000</td>\n",
              "      <td>14999.000000</td>\n",
              "      <td>14999.000000</td>\n",
              "      <td>14999.000000</td>\n",
              "      <td>14999.000000</td>\n",
              "      <td>14999.000000</td>\n",
              "      <td>14999.000000</td>\n",
              "    </tr>\n",
              "    <tr>\n",
              "      <th>mean</th>\n",
              "      <td>0.612834</td>\n",
              "      <td>0.716102</td>\n",
              "      <td>3.803054</td>\n",
              "      <td>201.050337</td>\n",
              "      <td>3.498233</td>\n",
              "      <td>0.144610</td>\n",
              "      <td>0.238083</td>\n",
              "      <td>0.021268</td>\n",
              "    </tr>\n",
              "    <tr>\n",
              "      <th>std</th>\n",
              "      <td>0.248631</td>\n",
              "      <td>0.171169</td>\n",
              "      <td>1.232592</td>\n",
              "      <td>49.943099</td>\n",
              "      <td>1.460136</td>\n",
              "      <td>0.351719</td>\n",
              "      <td>0.425924</td>\n",
              "      <td>0.144281</td>\n",
              "    </tr>\n",
              "    <tr>\n",
              "      <th>min</th>\n",
              "      <td>0.090000</td>\n",
              "      <td>0.360000</td>\n",
              "      <td>2.000000</td>\n",
              "      <td>96.000000</td>\n",
              "      <td>2.000000</td>\n",
              "      <td>0.000000</td>\n",
              "      <td>0.000000</td>\n",
              "      <td>0.000000</td>\n",
              "    </tr>\n",
              "    <tr>\n",
              "      <th>25%</th>\n",
              "      <td>0.440000</td>\n",
              "      <td>0.560000</td>\n",
              "      <td>3.000000</td>\n",
              "      <td>156.000000</td>\n",
              "      <td>3.000000</td>\n",
              "      <td>0.000000</td>\n",
              "      <td>0.000000</td>\n",
              "      <td>0.000000</td>\n",
              "    </tr>\n",
              "    <tr>\n",
              "      <th>50%</th>\n",
              "      <td>0.640000</td>\n",
              "      <td>0.720000</td>\n",
              "      <td>4.000000</td>\n",
              "      <td>200.000000</td>\n",
              "      <td>3.000000</td>\n",
              "      <td>0.000000</td>\n",
              "      <td>0.000000</td>\n",
              "      <td>0.000000</td>\n",
              "    </tr>\n",
              "    <tr>\n",
              "      <th>75%</th>\n",
              "      <td>0.820000</td>\n",
              "      <td>0.870000</td>\n",
              "      <td>5.000000</td>\n",
              "      <td>245.000000</td>\n",
              "      <td>4.000000</td>\n",
              "      <td>0.000000</td>\n",
              "      <td>0.000000</td>\n",
              "      <td>0.000000</td>\n",
              "    </tr>\n",
              "    <tr>\n",
              "      <th>max</th>\n",
              "      <td>1.000000</td>\n",
              "      <td>1.000000</td>\n",
              "      <td>7.000000</td>\n",
              "      <td>310.000000</td>\n",
              "      <td>10.000000</td>\n",
              "      <td>1.000000</td>\n",
              "      <td>1.000000</td>\n",
              "      <td>1.000000</td>\n",
              "    </tr>\n",
              "  </tbody>\n",
              "</table>\n",
              "</div>"
            ],
            "text/plain": [
              "       satisfaction_level  last_evaluation  number_project  \\\n",
              "count        14999.000000     14999.000000    14999.000000   \n",
              "mean             0.612834         0.716102        3.803054   \n",
              "std              0.248631         0.171169        1.232592   \n",
              "min              0.090000         0.360000        2.000000   \n",
              "25%              0.440000         0.560000        3.000000   \n",
              "50%              0.640000         0.720000        4.000000   \n",
              "75%              0.820000         0.870000        5.000000   \n",
              "max              1.000000         1.000000        7.000000   \n",
              "\n",
              "       average_monthly_hours  time_spend_company  Work_accident          left  \\\n",
              "count           14999.000000        14999.000000   14999.000000  14999.000000   \n",
              "mean              201.050337            3.498233       0.144610      0.238083   \n",
              "std                49.943099            1.460136       0.351719      0.425924   \n",
              "min                96.000000            2.000000       0.000000      0.000000   \n",
              "25%               156.000000            3.000000       0.000000      0.000000   \n",
              "50%               200.000000            3.000000       0.000000      0.000000   \n",
              "75%               245.000000            4.000000       0.000000      0.000000   \n",
              "max               310.000000           10.000000       1.000000      1.000000   \n",
              "\n",
              "       promotion_last_5years  \n",
              "count           14999.000000  \n",
              "mean                0.021268  \n",
              "std                 0.144281  \n",
              "min                 0.000000  \n",
              "25%                 0.000000  \n",
              "50%                 0.000000  \n",
              "75%                 0.000000  \n",
              "max                 1.000000  "
            ]
          },
          "execution_count": 7,
          "metadata": {},
          "output_type": "execute_result"
        }
      ],
      "source": [
        "df.describe()"
      ]
    },
    {
      "cell_type": "markdown",
      "id": "273f7d3d-dddd-402b-96fe-0061e60644a8",
      "metadata": {
        "id": "273f7d3d-dddd-402b-96fe-0061e60644a8"
      },
      "source": [
        "# TASK-2"
      ]
    },
    {
      "cell_type": "code",
      "execution_count": null,
      "id": "903475ce-da3a-4353-bf9b-d47b63e3edd9",
      "metadata": {
        "id": "903475ce-da3a-4353-bf9b-d47b63e3edd9",
        "outputId": "9f90448d-3565-4bc7-e3da-00bfd122ad0d"
      },
      "outputs": [
        {
          "data": {
            "text/plain": [
              "left\n",
              "0    0.666810\n",
              "1    0.440098\n",
              "Name: satisfaction_level, dtype: float64"
            ]
          },
          "execution_count": 8,
          "metadata": {},
          "output_type": "execute_result"
        }
      ],
      "source": [
        "satisfaction_by_status=df.groupby(\"left\")[\"satisfaction_level\"].mean()\n",
        "satisfaction_by_status"
      ]
    },
    {
      "cell_type": "code",
      "execution_count": null,
      "id": "409e7527-2f13-4523-99e6-73f545fcf357",
      "metadata": {
        "id": "409e7527-2f13-4523-99e6-73f545fcf357",
        "outputId": "02983b64-5632-4c6f-9712-899bbc4df824"
      },
      "outputs": [
        {
          "data": {
            "image/png": "[encoded data removed]",
            "text/plain": [
              "<Figure size 640x480 with 1 Axes>"
            ]
          },
          "metadata": {},
          "output_type": "display_data"
        }
      ],
      "source": [
        "satisfaction_by_status.plot(kind=\"bar\",color=[\"blue\",\"orange\"])\n",
        "plt.title(\"Satisfaction Level: Stayed vs Left\")\n",
        "plt.xlabel(\"Left(0=Stayed,1=Left)\")\n",
        "plt.ylabel(\"Average Satisfaction Level\")\n",
        "plt.show()"
      ]
    },
    {
      "cell_type": "code",
      "execution_count": null,
      "id": "a8d1c22f-89d2-44c7-98ca-1f9d31e13be8",
      "metadata": {
        "id": "a8d1c22f-89d2-44c7-98ca-1f9d31e13be8",
        "outputId": "843372d2-c4be-452f-ec5f-276027f65d59"
      },
      "outputs": [
        {
          "data": {
            "text/plain": [
              "left\n",
              "0    199.060203\n",
              "1    207.419210\n",
              "Name: average_monthly_hours, dtype: float64"
            ]
          },
          "execution_count": 10,
          "metadata": {},
          "output_type": "execute_result"
        }
      ],
      "source": [
        "hours_by_status=df.groupby(\"left\")[\"average_monthly_hours\"].mean()\n",
        "hours_by_status"
      ]
    },
    {
      "cell_type": "code",
      "execution_count": null,
      "id": "628e3b2c-781c-479c-9d73-172e280d0744",
      "metadata": {
        "id": "628e3b2c-781c-479c-9d73-172e280d0744",
        "outputId": "11933c28-9f13-40fa-8528-a1304a5b8958"
      },
      "outputs": [
        {
          "data": {
            "image/png": "[encoded data removed]",
            "text/plain": [
              "<Figure size 640x480 with 1 Axes>"
            ]
          },
          "metadata": {},
          "output_type": "display_data"
        }
      ],
      "source": [
        "hours_by_status.plot(kind=\"bar\",color=[\"blue\",\"orange\"])\n",
        "plt.title(\"average_monthly_hours: Stayed vs Left\")\n",
        "plt.xlabel(\"Left(0=Stayed,1=Left)\")\n",
        "plt.ylabel(\"average_monthly_hours\")\n",
        "plt.show()"
      ]
    },
    {
      "cell_type": "code",
      "execution_count": null,
      "id": "a0cf9a41-35ac-4d14-8067-129597d93f8e",
      "metadata": {
        "id": "a0cf9a41-35ac-4d14-8067-129597d93f8e",
        "outputId": "f6065c0f-acfd-45d4-e916-50d74cb3c900"
      },
      "outputs": [
        {
          "data": {
            "image/png": "[encoded data removed]",
            "text/plain": [
              "<Figure size 640x480 with 1 Axes>"
            ]
          },
          "metadata": {},
          "output_type": "display_data"
        }
      ],
      "source": [
        "salary_retention=pd.crosstab(df.salary, df.left)\n",
        "salary_retention.plot(kind=\"bar\",stacked=True)\n",
        "plt.title(\"Employee Retention by Salary Level\")\n",
        "plt.xlabel(\"Salary Level\")\n",
        "plt.ylabel(\"Number of Employees\")\n",
        "plt.show()"
      ]
    },
    {
      "cell_type": "code",
      "execution_count": null,
      "id": "84288feb-deda-48d5-b985-510cb1da5a7c",
      "metadata": {
        "id": "84288feb-deda-48d5-b985-510cb1da5a7c",
        "outputId": "58eda1d4-ff8f-4072-a063-3e2c823b5e62"
      },
      "outputs": [
        {
          "data": {
            "image/png": "[encoded data removed]",
            "text/plain": [
              "<Figure size 640x480 with 1 Axes>"
            ]
          },
          "metadata": {},
          "output_type": "display_data"
        }
      ],
      "source": [
        "department_retention=pd.crosstab(df.Department, df.left)\n",
        "department_retention.plot(kind=\"bar\", stacked=True)\n",
        "plt.title(\"Department-wise Employee Retention Rate\")\n",
        "plt.xlabel(\"Department\")\n",
        "plt.ylabel(\"Retention Rate\")\n",
        "plt.show()"
      ]
    },
    {
      "cell_type": "code",
      "execution_count": null,
      "id": "e30d2b59-1468-462b-b2cf-aa00ca0570df",
      "metadata": {
        "id": "e30d2b59-1468-462b-b2cf-aa00ca0570df"
      },
      "outputs": [],
      "source": [
        "bool=['Work_accident', 'left', 'promotion_last_5years']\n",
        "for i in bool:\n",
        "    df[i]=df[i].astype(\"bool\")"
      ]
    },
    {
      "cell_type": "code",
      "execution_count": null,
      "id": "e66b1a50-e93a-4ac8-bd63-4362b6e8eb55",
      "metadata": {
        "id": "e66b1a50-e93a-4ac8-bd63-4362b6e8eb55",
        "outputId": "f0c152e8-f294-4e91-e977-6d0f7d62bdd3"
      },
      "outputs": [
        {
          "data": {
            "text/plain": [
              "satisfaction_level       float64\n",
              "last_evaluation          float64\n",
              "number_project             int64\n",
              "average_monthly_hours      int64\n",
              "time_spend_company         int64\n",
              "Work_accident               bool\n",
              "left                        bool\n",
              "promotion_last_5years       bool\n",
              "Department                object\n",
              "salary                    object\n",
              "dtype: object"
            ]
          },
          "execution_count": 15,
          "metadata": {},
          "output_type": "execute_result"
        }
      ],
      "source": [
        "df.dtypes"
      ]
    },
    {
      "cell_type": "code",
      "execution_count": null,
      "id": "b274ff04-a0d3-46c1-bfe5-14b30ea7314e",
      "metadata": {
        "id": "b274ff04-a0d3-46c1-bfe5-14b30ea7314e",
        "outputId": "491c8bc7-8cae-4a57-e357-76e1ecd48488"
      },
      "outputs": [
        {
          "data": {
            "text/html": [
              "<div>\n",
              "<style scoped>\n",
              "    .dataframe tbody tr th:only-of-type {\n",
              "        vertical-align: middle;\n",
              "    }\n",
              "\n",
              "    .dataframe tbody tr th {\n",
              "        vertical-align: top;\n",
              "    }\n",
              "\n",
              "    .dataframe thead th {\n",
              "        text-align: right;\n",
              "    }\n",
              "</style>\n",
              "<table border=\"1\" class=\"dataframe\">\n",
              "  <thead>\n",
              "    <tr style=\"text-align: right;\">\n",
              "      <th></th>\n",
              "      <th>satisfaction_level</th>\n",
              "      <th>last_evaluation</th>\n",
              "      <th>number_project</th>\n",
              "      <th>average_monthly_hours</th>\n",
              "      <th>time_spend_company</th>\n",
              "      <th>Work_accident</th>\n",
              "      <th>left</th>\n",
              "      <th>promotion_last_5years</th>\n",
              "      <th>Department</th>\n",
              "      <th>salary</th>\n",
              "    </tr>\n",
              "  </thead>\n",
              "  <tbody>\n",
              "    <tr>\n",
              "      <th>0</th>\n",
              "      <td>0.38</td>\n",
              "      <td>0.53</td>\n",
              "      <td>2</td>\n",
              "      <td>157</td>\n",
              "      <td>3</td>\n",
              "      <td>False</td>\n",
              "      <td>True</td>\n",
              "      <td>False</td>\n",
              "      <td>sales</td>\n",
              "      <td>low</td>\n",
              "    </tr>\n",
              "    <tr>\n",
              "      <th>1</th>\n",
              "      <td>0.80</td>\n",
              "      <td>0.86</td>\n",
              "      <td>5</td>\n",
              "      <td>262</td>\n",
              "      <td>6</td>\n",
              "      <td>False</td>\n",
              "      <td>True</td>\n",
              "      <td>False</td>\n",
              "      <td>sales</td>\n",
              "      <td>medium</td>\n",
              "    </tr>\n",
              "  </tbody>\n",
              "</table>\n",
              "</div>"
            ],
            "text/plain": [
              "   satisfaction_level  last_evaluation  number_project  average_monthly_hours  \\\n",
              "0                0.38             0.53               2                    157   \n",
              "1                0.80             0.86               5                    262   \n",
              "\n",
              "   time_spend_company  Work_accident  left  promotion_last_5years Department  \\\n",
              "0                   3          False  True                  False      sales   \n",
              "1                   6          False  True                  False      sales   \n",
              "\n",
              "   salary  \n",
              "0     low  \n",
              "1  medium  "
            ]
          },
          "execution_count": 16,
          "metadata": {},
          "output_type": "execute_result"
        }
      ],
      "source": [
        "df.head(2)"
      ]
    },
    {
      "cell_type": "markdown",
      "id": "a4b75777-25e7-4d58-8812-e807526eb036",
      "metadata": {
        "id": "a4b75777-25e7-4d58-8812-e807526eb036"
      },
      "source": [
        "# TASK-3"
      ]
    },
    {
      "cell_type": "code",
      "execution_count": null,
      "id": "010f0de3-0209-4eda-8013-928df6d92df6",
      "metadata": {
        "id": "010f0de3-0209-4eda-8013-928df6d92df6"
      },
      "outputs": [],
      "source": [
        "df_conti=df.select_dtypes(include=\"number\")\n",
        "df_categ=df.select_dtypes(exclude=\"number\")"
      ]
    },
    {
      "cell_type": "code",
      "execution_count": null,
      "id": "6287d062-2f55-44e4-a8d3-dc551427889a",
      "metadata": {
        "id": "6287d062-2f55-44e4-a8d3-dc551427889a",
        "outputId": "07a4bdb0-332e-4a2a-f830-fbac2e076bde"
      },
      "outputs": [
        {
          "data": {
            "text/html": [
              "<div>\n",
              "<style scoped>\n",
              "    .dataframe tbody tr th:only-of-type {\n",
              "        vertical-align: middle;\n",
              "    }\n",
              "\n",
              "    .dataframe tbody tr th {\n",
              "        vertical-align: top;\n",
              "    }\n",
              "\n",
              "    .dataframe thead th {\n",
              "        text-align: right;\n",
              "    }\n",
              "</style>\n",
              "<table border=\"1\" class=\"dataframe\">\n",
              "  <thead>\n",
              "    <tr style=\"text-align: right;\">\n",
              "      <th></th>\n",
              "      <th>satisfaction_level</th>\n",
              "      <th>last_evaluation</th>\n",
              "      <th>number_project</th>\n",
              "      <th>average_monthly_hours</th>\n",
              "      <th>time_spend_company</th>\n",
              "    </tr>\n",
              "  </thead>\n",
              "  <tbody>\n",
              "    <tr>\n",
              "      <th>0</th>\n",
              "      <td>0.38</td>\n",
              "      <td>0.53</td>\n",
              "      <td>2</td>\n",
              "      <td>157</td>\n",
              "      <td>3</td>\n",
              "    </tr>\n",
              "    <tr>\n",
              "      <th>1</th>\n",
              "      <td>0.80</td>\n",
              "      <td>0.86</td>\n",
              "      <td>5</td>\n",
              "      <td>262</td>\n",
              "      <td>6</td>\n",
              "    </tr>\n",
              "    <tr>\n",
              "      <th>2</th>\n",
              "      <td>0.11</td>\n",
              "      <td>0.88</td>\n",
              "      <td>7</td>\n",
              "      <td>272</td>\n",
              "      <td>4</td>\n",
              "    </tr>\n",
              "    <tr>\n",
              "      <th>3</th>\n",
              "      <td>0.72</td>\n",
              "      <td>0.87</td>\n",
              "      <td>5</td>\n",
              "      <td>223</td>\n",
              "      <td>5</td>\n",
              "    </tr>\n",
              "    <tr>\n",
              "      <th>4</th>\n",
              "      <td>0.37</td>\n",
              "      <td>0.52</td>\n",
              "      <td>2</td>\n",
              "      <td>159</td>\n",
              "      <td>3</td>\n",
              "    </tr>\n",
              "    <tr>\n",
              "      <th>...</th>\n",
              "      <td>...</td>\n",
              "      <td>...</td>\n",
              "      <td>...</td>\n",
              "      <td>...</td>\n",
              "      <td>...</td>\n",
              "    </tr>\n",
              "    <tr>\n",
              "      <th>14994</th>\n",
              "      <td>0.40</td>\n",
              "      <td>0.57</td>\n",
              "      <td>2</td>\n",
              "      <td>151</td>\n",
              "      <td>3</td>\n",
              "    </tr>\n",
              "    <tr>\n",
              "      <th>14995</th>\n",
              "      <td>0.37</td>\n",
              "      <td>0.48</td>\n",
              "      <td>2</td>\n",
              "      <td>160</td>\n",
              "      <td>3</td>\n",
              "    </tr>\n",
              "    <tr>\n",
              "      <th>14996</th>\n",
              "      <td>0.37</td>\n",
              "      <td>0.53</td>\n",
              "      <td>2</td>\n",
              "      <td>143</td>\n",
              "      <td>3</td>\n",
              "    </tr>\n",
              "    <tr>\n",
              "      <th>14997</th>\n",
              "      <td>0.11</td>\n",
              "      <td>0.96</td>\n",
              "      <td>6</td>\n",
              "      <td>280</td>\n",
              "      <td>4</td>\n",
              "    </tr>\n",
              "    <tr>\n",
              "      <th>14998</th>\n",
              "      <td>0.37</td>\n",
              "      <td>0.52</td>\n",
              "      <td>2</td>\n",
              "      <td>158</td>\n",
              "      <td>3</td>\n",
              "    </tr>\n",
              "  </tbody>\n",
              "</table>\n",
              "<p>14999 rows × 5 columns</p>\n",
              "</div>"
            ],
            "text/plain": [
              "       satisfaction_level  last_evaluation  number_project  \\\n",
              "0                    0.38             0.53               2   \n",
              "1                    0.80             0.86               5   \n",
              "2                    0.11             0.88               7   \n",
              "3                    0.72             0.87               5   \n",
              "4                    0.37             0.52               2   \n",
              "...                   ...              ...             ...   \n",
              "14994                0.40             0.57               2   \n",
              "14995                0.37             0.48               2   \n",
              "14996                0.37             0.53               2   \n",
              "14997                0.11             0.96               6   \n",
              "14998                0.37             0.52               2   \n",
              "\n",
              "       average_monthly_hours  time_spend_company  \n",
              "0                        157                   3  \n",
              "1                        262                   6  \n",
              "2                        272                   4  \n",
              "3                        223                   5  \n",
              "4                        159                   3  \n",
              "...                      ...                 ...  \n",
              "14994                    151                   3  \n",
              "14995                    160                   3  \n",
              "14996                    143                   3  \n",
              "14997                    280                   4  \n",
              "14998                    158                   3  \n",
              "\n",
              "[14999 rows x 5 columns]"
            ]
          },
          "execution_count": 18,
          "metadata": {},
          "output_type": "execute_result"
        }
      ],
      "source": [
        "df_conti"
      ]
    },
    {
      "cell_type": "code",
      "execution_count": null,
      "id": "7263fb4a-da3c-45db-8f1f-93a5e46bb39d",
      "metadata": {
        "id": "7263fb4a-da3c-45db-8f1f-93a5e46bb39d",
        "outputId": "25d250f0-5abe-4ec5-948d-0aca203b0bdd"
      },
      "outputs": [
        {
          "data": {
            "text/plain": [
              "Index(['Work_accident', 'left', 'promotion_last_5years', 'Department',\n",
              "       'salary'],\n",
              "      dtype='object')"
            ]
          },
          "execution_count": 19,
          "metadata": {},
          "output_type": "execute_result"
        }
      ],
      "source": [
        "df_categ.columns"
      ]
    },
    {
      "cell_type": "code",
      "execution_count": null,
      "id": "15e577e5-c72c-4fc5-b62f-911c7f045cd9",
      "metadata": {
        "id": "15e577e5-c72c-4fc5-b62f-911c7f045cd9"
      },
      "outputs": [],
      "source": [
        "# A\n",
        "from sklearn import preprocessing\n",
        "from sklearn.preprocessing import LabelEncoder"
      ]
    },
    {
      "cell_type": "code",
      "execution_count": null,
      "id": "e1dfb489-67d8-418c-a6a6-53b8cdb9bca0",
      "metadata": {
        "id": "e1dfb489-67d8-418c-a6a6-53b8cdb9bca0"
      },
      "outputs": [],
      "source": [
        "enc=preprocessing.LabelEncoder()"
      ]
    },
    {
      "cell_type": "code",
      "execution_count": null,
      "id": "88c6b5e9-7703-4415-81e2-4ee06c0a29ca",
      "metadata": {
        "id": "88c6b5e9-7703-4415-81e2-4ee06c0a29ca"
      },
      "outputs": [],
      "source": [
        "encode= [\"Department\",\"salary\"]\n",
        "for i in encode:\n",
        "    df_categ[i]=enc.fit_transform(df_categ[i].to_numpy().reshape(-1,1))"
      ]
    },
    {
      "cell_type": "code",
      "execution_count": null,
      "id": "04452f9c-e550-4e7e-b505-ace9457c1180",
      "metadata": {
        "id": "04452f9c-e550-4e7e-b505-ace9457c1180",
        "outputId": "b1950298-12e3-434a-9c74-4f57e4081e86"
      },
      "outputs": [
        {
          "data": {
            "text/html": [
              "<div>\n",
              "<style scoped>\n",
              "    .dataframe tbody tr th:only-of-type {\n",
              "        vertical-align: middle;\n",
              "    }\n",
              "\n",
              "    .dataframe tbody tr th {\n",
              "        vertical-align: top;\n",
              "    }\n",
              "\n",
              "    .dataframe thead th {\n",
              "        text-align: right;\n",
              "    }\n",
              "</style>\n",
              "<table border=\"1\" class=\"dataframe\">\n",
              "  <thead>\n",
              "    <tr style=\"text-align: right;\">\n",
              "      <th></th>\n",
              "      <th>Work_accident</th>\n",
              "      <th>left</th>\n",
              "      <th>promotion_last_5years</th>\n",
              "      <th>Department</th>\n",
              "      <th>salary</th>\n",
              "    </tr>\n",
              "  </thead>\n",
              "  <tbody>\n",
              "    <tr>\n",
              "      <th>0</th>\n",
              "      <td>False</td>\n",
              "      <td>True</td>\n",
              "      <td>False</td>\n",
              "      <td>7</td>\n",
              "      <td>1</td>\n",
              "    </tr>\n",
              "    <tr>\n",
              "      <th>1</th>\n",
              "      <td>False</td>\n",
              "      <td>True</td>\n",
              "      <td>False</td>\n",
              "      <td>7</td>\n",
              "      <td>2</td>\n",
              "    </tr>\n",
              "    <tr>\n",
              "      <th>2</th>\n",
              "      <td>False</td>\n",
              "      <td>True</td>\n",
              "      <td>False</td>\n",
              "      <td>7</td>\n",
              "      <td>2</td>\n",
              "    </tr>\n",
              "    <tr>\n",
              "      <th>3</th>\n",
              "      <td>False</td>\n",
              "      <td>True</td>\n",
              "      <td>False</td>\n",
              "      <td>7</td>\n",
              "      <td>1</td>\n",
              "    </tr>\n",
              "    <tr>\n",
              "      <th>4</th>\n",
              "      <td>False</td>\n",
              "      <td>True</td>\n",
              "      <td>False</td>\n",
              "      <td>7</td>\n",
              "      <td>1</td>\n",
              "    </tr>\n",
              "    <tr>\n",
              "      <th>...</th>\n",
              "      <td>...</td>\n",
              "      <td>...</td>\n",
              "      <td>...</td>\n",
              "      <td>...</td>\n",
              "      <td>...</td>\n",
              "    </tr>\n",
              "    <tr>\n",
              "      <th>14994</th>\n",
              "      <td>False</td>\n",
              "      <td>True</td>\n",
              "      <td>False</td>\n",
              "      <td>8</td>\n",
              "      <td>1</td>\n",
              "    </tr>\n",
              "    <tr>\n",
              "      <th>14995</th>\n",
              "      <td>False</td>\n",
              "      <td>True</td>\n",
              "      <td>False</td>\n",
              "      <td>8</td>\n",
              "      <td>1</td>\n",
              "    </tr>\n",
              "    <tr>\n",
              "      <th>14996</th>\n",
              "      <td>False</td>\n",
              "      <td>True</td>\n",
              "      <td>False</td>\n",
              "      <td>8</td>\n",
              "      <td>1</td>\n",
              "    </tr>\n",
              "    <tr>\n",
              "      <th>14997</th>\n",
              "      <td>False</td>\n",
              "      <td>True</td>\n",
              "      <td>False</td>\n",
              "      <td>8</td>\n",
              "      <td>1</td>\n",
              "    </tr>\n",
              "    <tr>\n",
              "      <th>14998</th>\n",
              "      <td>False</td>\n",
              "      <td>True</td>\n",
              "      <td>False</td>\n",
              "      <td>8</td>\n",
              "      <td>1</td>\n",
              "    </tr>\n",
              "  </tbody>\n",
              "</table>\n",
              "<p>14999 rows × 5 columns</p>\n",
              "</div>"
            ],
            "text/plain": [
              "       Work_accident  left  promotion_last_5years  Department  salary\n",
              "0              False  True                  False           7       1\n",
              "1              False  True                  False           7       2\n",
              "2              False  True                  False           7       2\n",
              "3              False  True                  False           7       1\n",
              "4              False  True                  False           7       1\n",
              "...              ...   ...                    ...         ...     ...\n",
              "14994          False  True                  False           8       1\n",
              "14995          False  True                  False           8       1\n",
              "14996          False  True                  False           8       1\n",
              "14997          False  True                  False           8       1\n",
              "14998          False  True                  False           8       1\n",
              "\n",
              "[14999 rows x 5 columns]"
            ]
          },
          "execution_count": 23,
          "metadata": {},
          "output_type": "execute_result"
        }
      ],
      "source": [
        "df_categ"
      ]
    },
    {
      "cell_type": "code",
      "execution_count": null,
      "id": "bfb03dbc-6948-4fe9-aa97-6d8a50704354",
      "metadata": {
        "id": "bfb03dbc-6948-4fe9-aa97-6d8a50704354",
        "outputId": "53916888-88dc-44ac-f8eb-f57df543c4a5"
      },
      "outputs": [
        {
          "data": {
            "text/plain": [
              "satisfaction_level       0\n",
              "last_evaluation          0\n",
              "number_project           0\n",
              "average_monthly_hours    0\n",
              "time_spend_company       0\n",
              "Work_accident            0\n",
              "left                     0\n",
              "promotion_last_5years    0\n",
              "Department               0\n",
              "salary                   0\n",
              "dtype: int64"
            ]
          },
          "execution_count": 24,
          "metadata": {},
          "output_type": "execute_result"
        }
      ],
      "source": [
        "# B\n",
        "df.isnull().sum()"
      ]
    },
    {
      "cell_type": "code",
      "execution_count": null,
      "id": "4b3e49bd-e331-431d-a856-ad4b7e24410d",
      "metadata": {
        "id": "4b3e49bd-e331-431d-a856-ad4b7e24410d"
      },
      "outputs": [],
      "source": [
        "# C\n",
        "def Outlier_Treatment(col):\n",
        "    Q1=df_conti[col].quantile(0.25)\n",
        "    Q3=df_conti[col].quantile(0.75)\n",
        "    IQR=Q3 - Q1\n",
        "    LF=Q1 - (1.5 * IQR)\n",
        "    UF=Q3 + (1.5 * IQR)\n",
        "    df_conti.loc[df_conti[col] < LF, col] = round(LF , 0)\n",
        "    df_conti.loc[df_conti[col] > UF, col] = round(UF , 0)\n",
        "    return df_conti\n",
        "\n",
        "for m in df_conti.columns:\n",
        "    Outlier_Treatment(m)"
      ]
    },
    {
      "cell_type": "code",
      "execution_count": null,
      "id": "837f1343-de2b-40b6-8814-b23f65707c9c",
      "metadata": {
        "id": "837f1343-de2b-40b6-8814-b23f65707c9c",
        "outputId": "e86d0a8d-ca72-400c-aa07-8b1e45ddb898"
      },
      "outputs": [
        {
          "name": "stdout",
          "output_type": "stream",
          "text": [
            "satisfaction_level\n",
            "[0.38 0.8  0.11 0.72 0.37 0.41 0.1  0.92 0.89 0.42 0.45 0.84 0.36 0.78\n",
            " 0.76 0.09 0.46 0.4  0.82 0.87 0.57 0.43 0.13 0.44 0.39 0.85 0.81 0.9\n",
            " 0.74 0.79 0.17 0.24 0.91 0.71 0.86 0.14 0.75 0.7  0.31 0.73 0.83 0.32\n",
            " 0.54 0.27 0.77 0.88 0.48 0.19 0.6  0.12 0.61 0.33 0.56 0.47 0.28 0.55\n",
            " 0.53 0.59 0.66 0.25 0.34 0.58 0.51 0.35 0.64 0.5  0.23 0.15 0.49 0.3\n",
            " 0.63 0.21 0.62 0.29 0.2  0.16 0.65 0.68 0.67 0.22 0.26 0.99 0.98 1.\n",
            " 0.52 0.93 0.97 0.69 0.94 0.96 0.18 0.95]\n",
            "last_evaluation\n",
            "[0.53 0.86 0.88 0.87 0.52 0.5  0.77 0.85 1.   0.54 0.81 0.92 0.55 0.56\n",
            " 0.47 0.99 0.51 0.89 0.83 0.95 0.57 0.49 0.46 0.62 0.94 0.48 0.8  0.74\n",
            " 0.7  0.78 0.91 0.93 0.98 0.97 0.79 0.59 0.84 0.45 0.96 0.68 0.82 0.9\n",
            " 0.71 0.6  0.65 0.58 0.72 0.67 0.75 0.73 0.63 0.61 0.76 0.66 0.69 0.37\n",
            " 0.64 0.39 0.41 0.43 0.44 0.36 0.38 0.4  0.42]\n",
            "number_project\n",
            "[2 5 7 6 4 3]\n",
            "average_monthly_hours\n",
            "[157 262 272 223 159 153 247 259 224 142 135 305 234 148 137 143 160 255\n",
            " 282 147 304 139 158 242 239 128 132 294 134 145 140 246 126 306 152 269\n",
            " 127 281 276 182 273 307 309 225 226 308 244 286 161 264 277 275 149 295\n",
            " 151 249 291 232 130 129 155 265 279 284 221 154 150 267 257 177 144 289\n",
            " 258 263 251 133 216 300 138 260 183 250 292 283 245 256 278 240 136 301\n",
            " 243 296 274 164 146 261 285 141 297 156 287 219 254 228 131 252 236 270\n",
            " 298 192 248 266 238 229 233 268 231 253 302 271 290 235 293 241 218 199\n",
            " 180 195 237 227 172 206 181 217 310 214 198 211 222 213 202 184 204 288\n",
            " 220 299 303 212 196 179 205 230 203 280 169 188 178 175 166 163 168 165\n",
            " 189 162 215 193 176 191 174 201 208 171 111 104 106 100 194 209 185 200\n",
            " 207 187 210 186 167 108 122 110 115 197 102 109 190  99 101  97 173 121\n",
            " 170 105 118 119 117 114  96  98 107 123 116 125 113 120 112 124 103]\n",
            "time_spend_company\n",
            "[3 6 4 5 2]\n"
          ]
        }
      ],
      "source": [
        "for i in df_conti.columns:\n",
        "    print(i)\n",
        "    print(df_conti[i].unique())"
      ]
    },
    {
      "cell_type": "code",
      "execution_count": null,
      "id": "6f451dd0-6a45-4c30-9010-ad0b6b88c7ac",
      "metadata": {
        "id": "6f451dd0-6a45-4c30-9010-ad0b6b88c7ac"
      },
      "outputs": [],
      "source": [
        "#D\n",
        "from sklearn.preprocessing import StandardScaler"
      ]
    },
    {
      "cell_type": "code",
      "execution_count": null,
      "id": "5c8c62a4-d053-49d4-854a-421438379b6f",
      "metadata": {
        "id": "5c8c62a4-d053-49d4-854a-421438379b6f"
      },
      "outputs": [],
      "source": [
        "scaler=StandardScaler()"
      ]
    },
    {
      "cell_type": "code",
      "execution_count": null,
      "id": "9100668a-0391-4c5e-bbf8-c941f62bc3da",
      "metadata": {
        "id": "9100668a-0391-4c5e-bbf8-c941f62bc3da"
      },
      "outputs": [],
      "source": [
        "for i in df_conti.columns:\n",
        "    df_conti[i] = scaler.fit_transform(df_conti[i].to_numpy().reshape(-1,1))"
      ]
    },
    {
      "cell_type": "code",
      "execution_count": null,
      "id": "cb06314d-9515-43e9-8ad7-a443d5606658",
      "metadata": {
        "id": "cb06314d-9515-43e9-8ad7-a443d5606658",
        "outputId": "894f90ed-b2d3-447e-86a6-1d62e728b3f4"
      },
      "outputs": [
        {
          "data": {
            "text/html": [
              "<div>\n",
              "<style scoped>\n",
              "    .dataframe tbody tr th:only-of-type {\n",
              "        vertical-align: middle;\n",
              "    }\n",
              "\n",
              "    .dataframe tbody tr th {\n",
              "        vertical-align: top;\n",
              "    }\n",
              "\n",
              "    .dataframe thead th {\n",
              "        text-align: right;\n",
              "    }\n",
              "</style>\n",
              "<table border=\"1\" class=\"dataframe\">\n",
              "  <thead>\n",
              "    <tr style=\"text-align: right;\">\n",
              "      <th></th>\n",
              "      <th>satisfaction_level</th>\n",
              "      <th>last_evaluation</th>\n",
              "      <th>number_project</th>\n",
              "      <th>average_monthly_hours</th>\n",
              "      <th>time_spend_company</th>\n",
              "    </tr>\n",
              "  </thead>\n",
              "  <tbody>\n",
              "    <tr>\n",
              "      <th>0</th>\n",
              "      <td>-0.936495</td>\n",
              "      <td>-1.087275</td>\n",
              "      <td>-1.462863</td>\n",
              "      <td>-0.882040</td>\n",
              "      <td>-0.346088</td>\n",
              "    </tr>\n",
              "    <tr>\n",
              "      <th>1</th>\n",
              "      <td>0.752814</td>\n",
              "      <td>0.840707</td>\n",
              "      <td>0.971113</td>\n",
              "      <td>1.220423</td>\n",
              "      <td>2.204758</td>\n",
              "    </tr>\n",
              "  </tbody>\n",
              "</table>\n",
              "</div>"
            ],
            "text/plain": [
              "   satisfaction_level  last_evaluation  number_project  average_monthly_hours  \\\n",
              "0           -0.936495        -1.087275       -1.462863              -0.882040   \n",
              "1            0.752814         0.840707        0.971113               1.220423   \n",
              "\n",
              "   time_spend_company  \n",
              "0           -0.346088  \n",
              "1            2.204758  "
            ]
          },
          "execution_count": 30,
          "metadata": {},
          "output_type": "execute_result"
        }
      ],
      "source": [
        "df_conti.head(2)"
      ]
    },
    {
      "cell_type": "code",
      "execution_count": null,
      "id": "d81673f8-2d5b-4e63-97e2-ef7c02906e00",
      "metadata": {
        "id": "d81673f8-2d5b-4e63-97e2-ef7c02906e00"
      },
      "outputs": [],
      "source": [
        "from statsmodels.stats.outliers_influence import variance_inflation_factor"
      ]
    },
    {
      "cell_type": "code",
      "execution_count": null,
      "id": "79759fbb-57b2-4a3a-90f7-47ed5e515236",
      "metadata": {
        "id": "79759fbb-57b2-4a3a-90f7-47ed5e515236"
      },
      "outputs": [],
      "source": [
        "#E\n",
        "def cal_vif(vif_df):\n",
        "    vif = pd.Series(name = \"VIF\")\n",
        "    for i in range(0, vif_df.shape[1]):\n",
        "        vif[vif_df.columns[i]] = variance_inflation_factor(vif_df.values, i)\n",
        "    return vif\n",
        "\n",
        "vif_values = cal_vif(df_conti)"
      ]
    },
    {
      "cell_type": "code",
      "execution_count": null,
      "id": "8b5105c4-d268-47f7-b355-5492418e0311",
      "metadata": {
        "id": "8b5105c4-d268-47f7-b355-5492418e0311",
        "outputId": "57f7dad8-39a9-44a1-bdb8-52512dfa8fd2"
      },
      "outputs": [
        {
          "name": "stdout",
          "output_type": "stream",
          "text": [
            "satisfaction_level       1.066509\n",
            "last_evaluation          1.243198\n",
            "number_project           1.365296\n",
            "average_monthly_hours    1.280432\n",
            "time_spend_company       1.092726\n",
            "Name: VIF, dtype: float64\n"
          ]
        }
      ],
      "source": [
        "print(vif_values)"
      ]
    },
    {
      "cell_type": "code",
      "execution_count": null,
      "id": "92cc1ae5-f0ae-4dd5-b434-146b365cbbf6",
      "metadata": {
        "id": "92cc1ae5-f0ae-4dd5-b434-146b365cbbf6"
      },
      "outputs": [],
      "source": [
        "df1= pd.concat([df_conti,df_categ],axis = 1)"
      ]
    },
    {
      "cell_type": "code",
      "execution_count": null,
      "id": "d95290e3-1812-422c-a9f9-194281fa482a",
      "metadata": {
        "id": "d95290e3-1812-422c-a9f9-194281fa482a",
        "outputId": "36439efc-b835-4d51-9ec5-2ac394f2c323"
      },
      "outputs": [
        {
          "data": {
            "text/html": [
              "<div>\n",
              "<style scoped>\n",
              "    .dataframe tbody tr th:only-of-type {\n",
              "        vertical-align: middle;\n",
              "    }\n",
              "\n",
              "    .dataframe tbody tr th {\n",
              "        vertical-align: top;\n",
              "    }\n",
              "\n",
              "    .dataframe thead th {\n",
              "        text-align: right;\n",
              "    }\n",
              "</style>\n",
              "<table border=\"1\" class=\"dataframe\">\n",
              "  <thead>\n",
              "    <tr style=\"text-align: right;\">\n",
              "      <th></th>\n",
              "      <th>left</th>\n",
              "    </tr>\n",
              "  </thead>\n",
              "  <tbody>\n",
              "    <tr>\n",
              "      <th>satisfaction_level</th>\n",
              "      <td>0.388375</td>\n",
              "    </tr>\n",
              "    <tr>\n",
              "      <th>last_evaluation</th>\n",
              "      <td>0.006567</td>\n",
              "    </tr>\n",
              "    <tr>\n",
              "      <th>number_project</th>\n",
              "      <td>0.023787</td>\n",
              "    </tr>\n",
              "    <tr>\n",
              "      <th>average_monthly_hours</th>\n",
              "      <td>0.071287</td>\n",
              "    </tr>\n",
              "    <tr>\n",
              "      <th>time_spend_company</th>\n",
              "      <td>0.223145</td>\n",
              "    </tr>\n",
              "    <tr>\n",
              "      <th>Work_accident</th>\n",
              "      <td>0.154622</td>\n",
              "    </tr>\n",
              "    <tr>\n",
              "      <th>left</th>\n",
              "      <td>1.000000</td>\n",
              "    </tr>\n",
              "    <tr>\n",
              "      <th>promotion_last_5years</th>\n",
              "      <td>0.061788</td>\n",
              "    </tr>\n",
              "    <tr>\n",
              "      <th>Department</th>\n",
              "      <td>0.032105</td>\n",
              "    </tr>\n",
              "    <tr>\n",
              "      <th>salary</th>\n",
              "      <td>0.001294</td>\n",
              "    </tr>\n",
              "  </tbody>\n",
              "</table>\n",
              "</div>"
            ],
            "text/plain": [
              "                           left\n",
              "satisfaction_level     0.388375\n",
              "last_evaluation        0.006567\n",
              "number_project         0.023787\n",
              "average_monthly_hours  0.071287\n",
              "time_spend_company     0.223145\n",
              "Work_accident          0.154622\n",
              "left                   1.000000\n",
              "promotion_last_5years  0.061788\n",
              "Department             0.032105\n",
              "salary                 0.001294"
            ]
          },
          "execution_count": 35,
          "metadata": {},
          "output_type": "execute_result"
        }
      ],
      "source": [
        "abs(df1.corr()[[\"left\"]])"
      ]
    },
    {
      "cell_type": "code",
      "execution_count": null,
      "id": "fdaa0bbd-0888-4db6-9d22-99342466797b",
      "metadata": {
        "id": "fdaa0bbd-0888-4db6-9d22-99342466797b"
      },
      "outputs": [],
      "source": [
        "x=df1.drop(['last_evaluation', 'number_project', 'average_monthly_hours', 'left', 'promotion_last_5years', 'Department', 'salary'], axis = 1)"
      ]
    },
    {
      "cell_type": "code",
      "execution_count": null,
      "id": "794e2569-5229-4362-97c5-ec4ad5152d00",
      "metadata": {
        "id": "794e2569-5229-4362-97c5-ec4ad5152d00",
        "outputId": "8634be01-e0c3-4cf6-ff53-8ac49e2b901c"
      },
      "outputs": [
        {
          "data": {
            "text/plain": [
              "Index(['satisfaction_level', 'time_spend_company', 'Work_accident'], dtype='object')"
            ]
          },
          "execution_count": 37,
          "metadata": {},
          "output_type": "execute_result"
        }
      ],
      "source": [
        "x.columns"
      ]
    },
    {
      "cell_type": "code",
      "execution_count": null,
      "id": "fe3116b7-f171-4598-88d2-3947834fdf01",
      "metadata": {
        "id": "fe3116b7-f171-4598-88d2-3947834fdf01"
      },
      "outputs": [],
      "source": [
        "y=df1[[\"left\"]]"
      ]
    },
    {
      "cell_type": "code",
      "execution_count": null,
      "id": "621c1e1e-1a93-4cf9-88ff-dd0a4c2f550c",
      "metadata": {
        "id": "621c1e1e-1a93-4cf9-88ff-dd0a4c2f550c",
        "outputId": "0294044a-4133-471a-d7ed-eb20a8290fa1"
      },
      "outputs": [
        {
          "data": {
            "text/plain": [
              "Index(['left'], dtype='object')"
            ]
          },
          "execution_count": 39,
          "metadata": {},
          "output_type": "execute_result"
        }
      ],
      "source": [
        "y.columns"
      ]
    },
    {
      "cell_type": "code",
      "execution_count": null,
      "id": "ee51f70c-ad41-4b25-8478-c1cd894807e5",
      "metadata": {
        "id": "ee51f70c-ad41-4b25-8478-c1cd894807e5"
      },
      "outputs": [],
      "source": [
        "x_train,x_test,y_train,y_test=train_test_split(x,y,train_size = 0.7, random_state = 42)"
      ]
    },
    {
      "cell_type": "code",
      "execution_count": null,
      "id": "d36df48d-55a1-4a21-9d8d-0b0b1b020e07",
      "metadata": {
        "id": "d36df48d-55a1-4a21-9d8d-0b0b1b020e07",
        "outputId": "14415465-1442-4a0d-a0f5-3e8e02e8efc6"
      },
      "outputs": [
        {
          "name": "stdout",
          "output_type": "stream",
          "text": [
            "(10499, 3)\n",
            "(4500, 3)\n",
            "(10499, 1)\n",
            "(4500, 1)\n"
          ]
        }
      ],
      "source": [
        "print(x_train.shape)\n",
        "print(x_test.shape)\n",
        "print(y_train.shape)\n",
        "print(y_test.shape)"
      ]
    },
    {
      "cell_type": "code",
      "execution_count": null,
      "id": "92949613-4919-473a-b511-bf3fe5f7a839",
      "metadata": {
        "id": "92949613-4919-473a-b511-bf3fe5f7a839"
      },
      "outputs": [],
      "source": [
        "from sklearn.linear_model import LogisticRegression"
      ]
    },
    {
      "cell_type": "code",
      "execution_count": null,
      "id": "ce0151a1-e5d4-41c8-b07e-ea1e722b6a05",
      "metadata": {
        "id": "ce0151a1-e5d4-41c8-b07e-ea1e722b6a05"
      },
      "outputs": [],
      "source": [
        "log_reg=LogisticRegression().fit(x_train, y_train)"
      ]
    },
    {
      "cell_type": "code",
      "execution_count": null,
      "id": "7d373536-49cc-4464-903e-ade5a076feac",
      "metadata": {
        "id": "7d373536-49cc-4464-903e-ade5a076feac",
        "outputId": "9cfb9240-5fe8-4f27-d3a4-3bf56baadfda"
      },
      "outputs": [
        {
          "data": {
            "text/plain": [
              "0.7639775216687303"
            ]
          },
          "execution_count": 44,
          "metadata": {},
          "output_type": "execute_result"
        }
      ],
      "source": [
        "log_reg.score( x_train, y_train )"
      ]
    },
    {
      "cell_type": "code",
      "execution_count": null,
      "id": "adb7daeb-4ca0-4204-aa30-4b9531c0f85b",
      "metadata": {
        "id": "adb7daeb-4ca0-4204-aa30-4b9531c0f85b",
        "outputId": "2445892e-715c-4afd-e3e9-72c58379f850"
      },
      "outputs": [
        {
          "data": {
            "text/plain": [
              "array([False, False, False, ..., False, False, False])"
            ]
          },
          "execution_count": 45,
          "metadata": {},
          "output_type": "execute_result"
        }
      ],
      "source": [
        "y_pred=log_reg.predict(x_test)\n",
        "y_pred"
      ]
    },
    {
      "cell_type": "code",
      "execution_count": null,
      "id": "0f42f50c-26e5-43c4-842c-1e77fc517f07",
      "metadata": {
        "id": "0f42f50c-26e5-43c4-842c-1e77fc517f07"
      },
      "outputs": [],
      "source": [
        "from sklearn.metrics import accuracy_score"
      ]
    },
    {
      "cell_type": "code",
      "execution_count": null,
      "id": "5910c169-5f77-474e-a70f-7702f9afc969",
      "metadata": {
        "id": "5910c169-5f77-474e-a70f-7702f9afc969",
        "outputId": "3be73503-ac21-4502-8f66-6125de2cbb2e"
      },
      "outputs": [
        {
          "name": "stdout",
          "output_type": "stream",
          "text": [
            "0.7548888888888889\n"
          ]
        }
      ],
      "source": [
        "print(accuracy_score( y_test, y_pred))"
      ]
    },
    {
      "cell_type": "code",
      "execution_count": null,
      "id": "3a07ada2-d9fe-41e5-957d-9d19e0f7e8e2",
      "metadata": {
        "id": "3a07ada2-d9fe-41e5-957d-9d19e0f7e8e2"
      },
      "outputs": [],
      "source": [
        "from sklearn.metrics import confusion_matrix\n",
        "from sklearn.metrics import f1_score\n",
        "from sklearn.metrics import roc_auc_score\n",
        "from sklearn.metrics import recall_score\n",
        "from sklearn.metrics import precision_score"
      ]
    },
    {
      "cell_type": "code",
      "execution_count": null,
      "id": "5b89c1cc-8959-4044-b726-1774a26a0e51",
      "metadata": {
        "id": "5b89c1cc-8959-4044-b726-1774a26a0e51",
        "outputId": "1aea7fb8-6a8e-472b-e4b6-30a41525add7"
      },
      "outputs": [
        {
          "name": "stdout",
          "output_type": "stream",
          "text": [
            "[[3130  298]\n",
            " [ 805  267]]\n"
          ]
        }
      ],
      "source": [
        "print(confusion_matrix( y_test, y_pred))"
      ]
    },
    {
      "cell_type": "code",
      "execution_count": null,
      "id": "3ba155cc-750f-4398-8edf-0776110cb7b7",
      "metadata": {
        "id": "3ba155cc-750f-4398-8edf-0776110cb7b7",
        "outputId": "fb0f39d1-f232-40be-9036-1336655ef29e"
      },
      "outputs": [
        {
          "name": "stdout",
          "output_type": "stream",
          "text": [
            "F1 Score :  0.7253707599047738\n"
          ]
        }
      ],
      "source": [
        "print(\"F1 Score : \",f1_score( y_test, y_pred, average = \"weighted\"))"
      ]
    },
    {
      "cell_type": "code",
      "execution_count": null,
      "id": "610a26b3-1cf1-4fd7-8d36-6bbdc56326ae",
      "metadata": {
        "id": "610a26b3-1cf1-4fd7-8d36-6bbdc56326ae",
        "outputId": "3b82116a-0721-450d-98b2-e79abaefd267"
      },
      "outputs": [
        {
          "name": "stdout",
          "output_type": "stream",
          "text": [
            "roc score is :  0.812985738605688\n"
          ]
        }
      ],
      "source": [
        "roc = roc_auc_score( y_test, log_reg.predict_proba(x_test)[:,1] )\n",
        "print(\"roc score is : \",roc)"
      ]
    },
    {
      "cell_type": "code",
      "execution_count": null,
      "id": "cc29d3ce-f48e-4003-a622-91e1701fd29e",
      "metadata": {
        "id": "cc29d3ce-f48e-4003-a622-91e1701fd29e",
        "outputId": "d5097f42-6da2-4314-c87f-8baf6812970e"
      },
      "outputs": [
        {
          "name": "stdout",
          "output_type": "stream",
          "text": [
            "recall :  0.7548888888888889\n",
            "precision :  0.7185134082728307\n"
          ]
        }
      ],
      "source": [
        "print(\"recall : \",recall_score(y_test, y_pred, average = \"weighted\"))\n",
        "print(\"precision : \",precision_score(y_test, y_pred, average = \"weighted\"))"
      ]
    },
    {
      "cell_type": "code",
      "execution_count": null,
      "id": "f27190c9-71d8-42af-81fd-03970ae3ec6b",
      "metadata": {
        "id": "f27190c9-71d8-42af-81fd-03970ae3ec6b",
        "outputId": "ad180ebc-5dec-4bd6-c4de-944c45b1e3d6"
      },
      "outputs": [
        {
          "data": {
            "image/png": "[encoded data removed]",
            "text/plain": [
              "<Figure size 640x480 with 1 Axes>"
            ]
          },
          "metadata": {},
          "output_type": "display_data"
        }
      ],
      "source": [
        "from sklearn.metrics import roc_curve, auc\n",
        "from sklearn.metrics import RocCurveDisplay\n",
        "import matplotlib.pyplot as plt\n",
        "\n",
        "y_prob = log_reg.predict_proba(x_test)[ : , 1]\n",
        "fpr, tpr, _ = roc_curve(y_test, y_prob)\n",
        "roc_auc = auc(fpr, tpr)\n",
        "roc_display = RocCurveDisplay(fpr = fpr, tpr = tpr, roc_auc = roc_auc)\n",
        "roc_display.plot()\n",
        "plt.xlabel(\"FPR\")\n",
        "plt.ylabel(\"TPR\")\n",
        "plt.title(\"ROC CURVE\")\n",
        "plt.show()"
      ]
    },
    {
      "cell_type": "code",
      "execution_count": null,
      "id": "a68a8e4f-9c3c-48a3-9680-a9f5fe27f648",
      "metadata": {
        "id": "a68a8e4f-9c3c-48a3-9680-a9f5fe27f648"
      },
      "outputs": [],
      "source": []
    }
  ],
  "metadata": {
    "kernelspec": {
      "display_name": "Python 3 (ipykernel)",
      "language": "python",
      "name": "python3"
    },
    "language_info": {
      "codemirror_mode": {
        "name": "ipython",
        "version": 3
      },
      "file_extension": ".py",
      "mimetype": "text/x-python",
      "name": "python",
      "nbconvert_exporter": "python",
      "pygments_lexer": "ipython3",
      "version": "3.11.7"
    },
    "colab": {
      "provenance": []
    }
  },
  "nbformat": 4,
  "nbformat_minor": 5
}