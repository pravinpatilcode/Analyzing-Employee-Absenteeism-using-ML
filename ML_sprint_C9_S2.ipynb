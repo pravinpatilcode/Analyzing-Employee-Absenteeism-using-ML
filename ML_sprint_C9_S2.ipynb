{
  "cells": [
    {
      "cell_type": "code",
      "execution_count": null,
      "id": "b6345a17-aca6-4dd8-b183-498adc547a68",
      "metadata": {
        "id": "b6345a17-aca6-4dd8-b183-498adc547a68"
      },
      "outputs": [],
      "source": [
        "import pandas as pd\n",
        "from sklearn import preprocessing\n",
        "from sklearn.preprocessing import MinMaxScaler\n",
        "from sklearn.model_selection import train_test_split\n",
        "import numpy as np\n",
        "import seaborn as sns\n",
        "import matplotlib.pyplot as plt"
      ]
    },
    {
      "cell_type": "markdown",
      "id": "d22f45e8-4105-4a58-8f10-fb3103da7e63",
      "metadata": {
        "id": "d22f45e8-4105-4a58-8f10-fb3103da7e63"
      },
      "source": [
        "# TASK 1"
      ]
    },
    {
      "cell_type": "code",
      "execution_count": null,
      "id": "b343d098-1934-4d07-8c8d-f77ec3fdab17",
      "metadata": {
        "id": "b343d098-1934-4d07-8c8d-f77ec3fdab17"
      },
      "outputs": [],
      "source": [
        "df=pd.read_csv(\"C:\\\\Users\\\\Admin\\\\Downloads\\\\COURSE_9_NIIT\\\\DS1_C9_S2_Practice_BikeSales_Data.csv\")"
      ]
    },
    {
      "cell_type": "code",
      "execution_count": null,
      "id": "9852e344-25ac-4379-9d8a-93aac3f9dfdc",
      "metadata": {
        "id": "9852e344-25ac-4379-9d8a-93aac3f9dfdc",
        "outputId": "ab922c66-055f-44f4-b587-32ae9c241418"
      },
      "outputs": [
        {
          "data": {
            "text/html": [
              "<div>\n",
              "<style scoped>\n",
              "    .dataframe tbody tr th:only-of-type {\n",
              "        vertical-align: middle;\n",
              "    }\n",
              "\n",
              "    .dataframe tbody tr th {\n",
              "        vertical-align: top;\n",
              "    }\n",
              "\n",
              "    .dataframe thead th {\n",
              "        text-align: right;\n",
              "    }\n",
              "</style>\n",
              "<table border=\"1\" class=\"dataframe\">\n",
              "  <thead>\n",
              "    <tr style=\"text-align: right;\">\n",
              "      <th></th>\n",
              "      <th>Date</th>\n",
              "      <th>Day</th>\n",
              "      <th>Month</th>\n",
              "      <th>Year</th>\n",
              "      <th>Customer_Age</th>\n",
              "      <th>Age_Group</th>\n",
              "      <th>Customer_Gender</th>\n",
              "      <th>Country</th>\n",
              "      <th>State</th>\n",
              "      <th>Product_Category</th>\n",
              "      <th>Sub_Category</th>\n",
              "      <th>Product</th>\n",
              "      <th>Order_Quantity</th>\n",
              "      <th>Unit_Cost</th>\n",
              "      <th>Unit_Price</th>\n",
              "      <th>Profit</th>\n",
              "      <th>Cost</th>\n",
              "      <th>Revenue</th>\n",
              "    </tr>\n",
              "  </thead>\n",
              "  <tbody>\n",
              "    <tr>\n",
              "      <th>0</th>\n",
              "      <td>26-11-2013</td>\n",
              "      <td>26</td>\n",
              "      <td>November</td>\n",
              "      <td>2013</td>\n",
              "      <td>19</td>\n",
              "      <td>Youth (&lt;25)</td>\n",
              "      <td>M</td>\n",
              "      <td>Canada</td>\n",
              "      <td>British Columbia</td>\n",
              "      <td>Accessories</td>\n",
              "      <td>Bike Racks</td>\n",
              "      <td>Hitch Rack - 4-Bike</td>\n",
              "      <td>8.0</td>\n",
              "      <td>45</td>\n",
              "      <td>120.0</td>\n",
              "      <td>590.0</td>\n",
              "      <td>360.0</td>\n",
              "      <td>950</td>\n",
              "    </tr>\n",
              "    <tr>\n",
              "      <th>1</th>\n",
              "      <td>26-11-2015</td>\n",
              "      <td>26</td>\n",
              "      <td>November</td>\n",
              "      <td>2015</td>\n",
              "      <td>19</td>\n",
              "      <td>Youth (&lt;25)</td>\n",
              "      <td>M</td>\n",
              "      <td>Canada</td>\n",
              "      <td>British Columbia</td>\n",
              "      <td>Accessories</td>\n",
              "      <td>Bike Racks</td>\n",
              "      <td>Hitch Rack - 4-Bike</td>\n",
              "      <td>8.0</td>\n",
              "      <td>45</td>\n",
              "      <td>120.0</td>\n",
              "      <td>590.0</td>\n",
              "      <td>360.0</td>\n",
              "      <td>950</td>\n",
              "    </tr>\n",
              "  </tbody>\n",
              "</table>\n",
              "</div>"
            ],
            "text/plain": [
              "         Date  Day     Month  Year  Customer_Age    Age_Group Customer_Gender  \\\n",
              "0  26-11-2013   26  November  2013            19  Youth (<25)               M   \n",
              "1  26-11-2015   26  November  2015            19  Youth (<25)               M   \n",
              "\n",
              "  Country             State Product_Category Sub_Category  \\\n",
              "0  Canada  British Columbia      Accessories   Bike Racks   \n",
              "1  Canada  British Columbia      Accessories   Bike Racks   \n",
              "\n",
              "               Product  Order_Quantity  Unit_Cost  Unit_Price  Profit   Cost  \\\n",
              "0  Hitch Rack - 4-Bike             8.0         45       120.0   590.0  360.0   \n",
              "1  Hitch Rack - 4-Bike             8.0         45       120.0   590.0  360.0   \n",
              "\n",
              "   Revenue  \n",
              "0      950  \n",
              "1      950  "
            ]
          },
          "execution_count": 3,
          "metadata": {},
          "output_type": "execute_result"
        }
      ],
      "source": [
        "df.head(2)"
      ]
    },
    {
      "cell_type": "code",
      "execution_count": null,
      "id": "becf6837-9ccd-4d4f-beb3-5b9035c459de",
      "metadata": {
        "id": "becf6837-9ccd-4d4f-beb3-5b9035c459de"
      },
      "outputs": [],
      "source": [
        "selected_col=[\"Revenue\",\"Order_Quantity\",\"Unit_Cost\",\"Unit_Price\",\"Customer_Age\"]"
      ]
    },
    {
      "cell_type": "code",
      "execution_count": null,
      "id": "f27fb064-95ba-4d75-a47c-51beff02d3d0",
      "metadata": {
        "id": "f27fb064-95ba-4d75-a47c-51beff02d3d0",
        "outputId": "91e4db3c-2865-4984-f4de-b873a2c25401"
      },
      "outputs": [
        {
          "data": {
            "text/html": [
              "<div>\n",
              "<style scoped>\n",
              "    .dataframe tbody tr th:only-of-type {\n",
              "        vertical-align: middle;\n",
              "    }\n",
              "\n",
              "    .dataframe tbody tr th {\n",
              "        vertical-align: top;\n",
              "    }\n",
              "\n",
              "    .dataframe thead th {\n",
              "        text-align: right;\n",
              "    }\n",
              "</style>\n",
              "<table border=\"1\" class=\"dataframe\">\n",
              "  <thead>\n",
              "    <tr style=\"text-align: right;\">\n",
              "      <th></th>\n",
              "      <th>Revenue</th>\n",
              "      <th>Order_Quantity</th>\n",
              "      <th>Unit_Cost</th>\n",
              "      <th>Unit_Price</th>\n",
              "      <th>Customer_Age</th>\n",
              "    </tr>\n",
              "  </thead>\n",
              "  <tbody>\n",
              "    <tr>\n",
              "      <th>0</th>\n",
              "      <td>950</td>\n",
              "      <td>8.0</td>\n",
              "      <td>45</td>\n",
              "      <td>120.0</td>\n",
              "      <td>19</td>\n",
              "    </tr>\n",
              "    <tr>\n",
              "      <th>1</th>\n",
              "      <td>950</td>\n",
              "      <td>8.0</td>\n",
              "      <td>45</td>\n",
              "      <td>120.0</td>\n",
              "      <td>19</td>\n",
              "    </tr>\n",
              "    <tr>\n",
              "      <th>2</th>\n",
              "      <td>594</td>\n",
              "      <td>5.0</td>\n",
              "      <td>45</td>\n",
              "      <td>120.0</td>\n",
              "      <td>29</td>\n",
              "    </tr>\n",
              "    <tr>\n",
              "      <th>3</th>\n",
              "      <td>832</td>\n",
              "      <td>7.0</td>\n",
              "      <td>45</td>\n",
              "      <td>120.0</td>\n",
              "      <td>29</td>\n",
              "    </tr>\n",
              "    <tr>\n",
              "      <th>4</th>\n",
              "      <td>238</td>\n",
              "      <td>2.0</td>\n",
              "      <td>45</td>\n",
              "      <td>120.0</td>\n",
              "      <td>29</td>\n",
              "    </tr>\n",
              "    <tr>\n",
              "      <th>...</th>\n",
              "      <td>...</td>\n",
              "      <td>...</td>\n",
              "      <td>...</td>\n",
              "      <td>...</td>\n",
              "      <td>...</td>\n",
              "    </tr>\n",
              "    <tr>\n",
              "      <th>495</th>\n",
              "      <td>64</td>\n",
              "      <td>13.0</td>\n",
              "      <td>2</td>\n",
              "      <td>5.0</td>\n",
              "      <td>37</td>\n",
              "    </tr>\n",
              "    <tr>\n",
              "      <th>496</th>\n",
              "      <td>153</td>\n",
              "      <td>31.0</td>\n",
              "      <td>2</td>\n",
              "      <td>5.0</td>\n",
              "      <td>37</td>\n",
              "    </tr>\n",
              "    <tr>\n",
              "      <th>497</th>\n",
              "      <td>54</td>\n",
              "      <td>11.0</td>\n",
              "      <td>2</td>\n",
              "      <td>5.0</td>\n",
              "      <td>37</td>\n",
              "    </tr>\n",
              "    <tr>\n",
              "      <th>498</th>\n",
              "      <td>25</td>\n",
              "      <td>5.0</td>\n",
              "      <td>2</td>\n",
              "      <td>5.0</td>\n",
              "      <td>37</td>\n",
              "    </tr>\n",
              "    <tr>\n",
              "      <th>499</th>\n",
              "      <td>30</td>\n",
              "      <td>6.0</td>\n",
              "      <td>2</td>\n",
              "      <td>5.0</td>\n",
              "      <td>37</td>\n",
              "    </tr>\n",
              "  </tbody>\n",
              "</table>\n",
              "<p>500 rows × 5 columns</p>\n",
              "</div>"
            ],
            "text/plain": [
              "     Revenue  Order_Quantity  Unit_Cost  Unit_Price  Customer_Age\n",
              "0        950             8.0         45       120.0            19\n",
              "1        950             8.0         45       120.0            19\n",
              "2        594             5.0         45       120.0            29\n",
              "3        832             7.0         45       120.0            29\n",
              "4        238             2.0         45       120.0            29\n",
              "..       ...             ...        ...         ...           ...\n",
              "495       64            13.0          2         5.0            37\n",
              "496      153            31.0          2         5.0            37\n",
              "497       54            11.0          2         5.0            37\n",
              "498       25             5.0          2         5.0            37\n",
              "499       30             6.0          2         5.0            37\n",
              "\n",
              "[500 rows x 5 columns]"
            ]
          },
          "execution_count": 5,
          "metadata": {},
          "output_type": "execute_result"
        }
      ],
      "source": [
        "df_selected=df[selected_col]\n",
        "df_selectedm=pd.DataFrame(df_selected)\n",
        "df_selectedm"
      ]
    },
    {
      "cell_type": "code",
      "execution_count": null,
      "id": "ee974751-4d91-45b1-b9c8-6c4e97c72d31",
      "metadata": {
        "id": "ee974751-4d91-45b1-b9c8-6c4e97c72d31",
        "outputId": "6201660c-bec5-4487-d8ee-20d18db7c29b"
      },
      "outputs": [
        {
          "data": {
            "text/html": [
              "<div>\n",
              "<style scoped>\n",
              "    .dataframe tbody tr th:only-of-type {\n",
              "        vertical-align: middle;\n",
              "    }\n",
              "\n",
              "    .dataframe tbody tr th {\n",
              "        vertical-align: top;\n",
              "    }\n",
              "\n",
              "    .dataframe thead th {\n",
              "        text-align: right;\n",
              "    }\n",
              "</style>\n",
              "<table border=\"1\" class=\"dataframe\">\n",
              "  <thead>\n",
              "    <tr style=\"text-align: right;\">\n",
              "      <th></th>\n",
              "      <th>Revenue</th>\n",
              "      <th>Order_Quantity</th>\n",
              "      <th>Unit_Cost</th>\n",
              "      <th>Unit_Price</th>\n",
              "      <th>Customer_Age</th>\n",
              "    </tr>\n",
              "  </thead>\n",
              "  <tbody>\n",
              "    <tr>\n",
              "      <th>count</th>\n",
              "      <td>500.000000</td>\n",
              "      <td>495.000000</td>\n",
              "      <td>500.000000</td>\n",
              "      <td>497.000000</td>\n",
              "      <td>500.000000</td>\n",
              "    </tr>\n",
              "    <tr>\n",
              "      <th>mean</th>\n",
              "      <td>343.216000</td>\n",
              "      <td>13.375758</td>\n",
              "      <td>16.548000</td>\n",
              "      <td>43.601610</td>\n",
              "      <td>36.588000</td>\n",
              "    </tr>\n",
              "    <tr>\n",
              "      <th>std</th>\n",
              "      <td>556.346929</td>\n",
              "      <td>9.249150</td>\n",
              "      <td>21.759473</td>\n",
              "      <td>58.344484</td>\n",
              "      <td>11.363649</td>\n",
              "    </tr>\n",
              "    <tr>\n",
              "      <th>min</th>\n",
              "      <td>5.000000</td>\n",
              "      <td>1.000000</td>\n",
              "      <td>2.000000</td>\n",
              "      <td>5.000000</td>\n",
              "      <td>17.000000</td>\n",
              "    </tr>\n",
              "    <tr>\n",
              "      <th>25%</th>\n",
              "      <td>69.000000</td>\n",
              "      <td>5.000000</td>\n",
              "      <td>2.000000</td>\n",
              "      <td>5.000000</td>\n",
              "      <td>31.000000</td>\n",
              "    </tr>\n",
              "    <tr>\n",
              "      <th>50%</th>\n",
              "      <td>129.000000</td>\n",
              "      <td>12.000000</td>\n",
              "      <td>3.000000</td>\n",
              "      <td>9.000000</td>\n",
              "      <td>35.000000</td>\n",
              "    </tr>\n",
              "    <tr>\n",
              "      <th>75%</th>\n",
              "      <td>272.000000</td>\n",
              "      <td>22.000000</td>\n",
              "      <td>45.000000</td>\n",
              "      <td>120.000000</td>\n",
              "      <td>42.000000</td>\n",
              "    </tr>\n",
              "    <tr>\n",
              "      <th>max</th>\n",
              "      <td>3564.000000</td>\n",
              "      <td>32.000000</td>\n",
              "      <td>59.000000</td>\n",
              "      <td>159.000000</td>\n",
              "      <td>73.000000</td>\n",
              "    </tr>\n",
              "  </tbody>\n",
              "</table>\n",
              "</div>"
            ],
            "text/plain": [
              "           Revenue  Order_Quantity   Unit_Cost  Unit_Price  Customer_Age\n",
              "count   500.000000      495.000000  500.000000  497.000000    500.000000\n",
              "mean    343.216000       13.375758   16.548000   43.601610     36.588000\n",
              "std     556.346929        9.249150   21.759473   58.344484     11.363649\n",
              "min       5.000000        1.000000    2.000000    5.000000     17.000000\n",
              "25%      69.000000        5.000000    2.000000    5.000000     31.000000\n",
              "50%     129.000000       12.000000    3.000000    9.000000     35.000000\n",
              "75%     272.000000       22.000000   45.000000  120.000000     42.000000\n",
              "max    3564.000000       32.000000   59.000000  159.000000     73.000000"
            ]
          },
          "execution_count": 6,
          "metadata": {},
          "output_type": "execute_result"
        }
      ],
      "source": [
        "df_selectedm.describe()"
      ]
    },
    {
      "cell_type": "markdown",
      "id": "bd355d9a-2cc9-409e-9d48-e65126f01d2b",
      "metadata": {
        "id": "bd355d9a-2cc9-409e-9d48-e65126f01d2b"
      },
      "source": [
        "# TASK 2"
      ]
    },
    {
      "cell_type": "code",
      "execution_count": null,
      "id": "594cb97f-23fa-4431-9464-94d474c8e0e7",
      "metadata": {
        "id": "594cb97f-23fa-4431-9464-94d474c8e0e7",
        "outputId": "03696d3e-c56f-4bad-a1d1-960e32efb7c3"
      },
      "outputs": [
        {
          "data": {
            "text/plain": [
              "Revenue           0\n",
              "Order_Quantity    5\n",
              "Unit_Cost         0\n",
              "Unit_Price        3\n",
              "Customer_Age      0\n",
              "dtype: int64"
            ]
          },
          "execution_count": 7,
          "metadata": {},
          "output_type": "execute_result"
        }
      ],
      "source": [
        "df_selectedm.isnull().sum()"
      ]
    },
    {
      "cell_type": "code",
      "execution_count": null,
      "id": "15b8148b-e676-479e-aed6-cc94b1f0d1bf",
      "metadata": {
        "id": "15b8148b-e676-479e-aed6-cc94b1f0d1bf",
        "outputId": "3ed36180-7f7a-4a90-ad9f-93ba61624e56"
      },
      "outputs": [
        {
          "data": {
            "text/plain": [
              "Revenue             int64\n",
              "Order_Quantity    float64\n",
              "Unit_Cost           int64\n",
              "Unit_Price        float64\n",
              "Customer_Age        int64\n",
              "dtype: object"
            ]
          },
          "execution_count": 8,
          "metadata": {},
          "output_type": "execute_result"
        }
      ],
      "source": [
        "df_selectedm.dtypes"
      ]
    },
    {
      "cell_type": "code",
      "execution_count": null,
      "id": "8de5f5cd-e405-44cc-b535-a4c56ce86dcd",
      "metadata": {
        "id": "8de5f5cd-e405-44cc-b535-a4c56ce86dcd"
      },
      "outputs": [],
      "source": [
        "ordermean=df_selectedm[\"Order_Quantity\"].mean()"
      ]
    },
    {
      "cell_type": "code",
      "execution_count": null,
      "id": "26a76bc7-61b7-46f7-8b4e-aa5a37ade08d",
      "metadata": {
        "id": "26a76bc7-61b7-46f7-8b4e-aa5a37ade08d"
      },
      "outputs": [],
      "source": [
        "unitprice_mean=df_selectedm[\"Unit_Price\"].mean()"
      ]
    },
    {
      "cell_type": "code",
      "execution_count": null,
      "id": "8f416c49-1408-4bf8-8f8e-2a7bf17a8757",
      "metadata": {
        "id": "8f416c49-1408-4bf8-8f8e-2a7bf17a8757"
      },
      "outputs": [],
      "source": [
        "df_selectedm.loc[:,\"Order_Quantity\"]=df_selectedm[\"Order_Quantity\"].fillna(ordermean)"
      ]
    },
    {
      "cell_type": "code",
      "execution_count": null,
      "id": "7460ad4c-8f06-45eb-b245-1f7f95261063",
      "metadata": {
        "id": "7460ad4c-8f06-45eb-b245-1f7f95261063"
      },
      "outputs": [],
      "source": [
        "df_selectedm.loc[:,\"Unit_Price\"]=df_selectedm[\"Unit_Price\"].fillna(unitprice_mean)"
      ]
    },
    {
      "cell_type": "code",
      "execution_count": null,
      "id": "a23d5ef6-13ad-44af-ab99-be26b3ab1b81",
      "metadata": {
        "id": "a23d5ef6-13ad-44af-ab99-be26b3ab1b81",
        "outputId": "54543d88-4a21-4ed3-8a33-df5daa92d1b3"
      },
      "outputs": [
        {
          "data": {
            "text/plain": [
              "Revenue           0\n",
              "Order_Quantity    0\n",
              "Unit_Cost         0\n",
              "Unit_Price        0\n",
              "Customer_Age      0\n",
              "dtype: int64"
            ]
          },
          "execution_count": 13,
          "metadata": {},
          "output_type": "execute_result"
        }
      ],
      "source": [
        "df_selectedm.isnull().sum()"
      ]
    },
    {
      "cell_type": "code",
      "execution_count": null,
      "id": "d1845aeb-77b4-46ec-8eea-3fae28e9aeaf",
      "metadata": {
        "id": "d1845aeb-77b4-46ec-8eea-3fae28e9aeaf",
        "outputId": "afd8c524-841c-4f3a-f946-850eb2785e03"
      },
      "outputs": [
        {
          "name": "stdout",
          "output_type": "stream",
          "text": [
            "Index(['Revenue', 'Order_Quantity', 'Unit_Cost', 'Unit_Price', 'Customer_Age'], dtype='object')\n",
            "lower fence: -235.5 in column: Revenue\n",
            "upper fence: 576.5 in column: Revenue\n",
            "Median value is: 129.0 in col: Revenue\n",
            "lower fence: -20.5 in column: Order_Quantity\n",
            "upper fence: 47.5 in column: Order_Quantity\n",
            "Median value is: 12.0 in col: Order_Quantity\n",
            "lower fence: -62.5 in column: Unit_Cost\n",
            "upper fence: 109.5 in column: Unit_Cost\n",
            "Median value is: 3.0 in col: Unit_Cost\n",
            "lower fence: -167.5 in column: Unit_Price\n",
            "upper fence: 292.5 in column: Unit_Price\n",
            "Median value is: 9.0 in col: Unit_Price\n",
            "lower fence: 14.5 in column: Customer_Age\n",
            "upper fence: 58.5 in column: Customer_Age\n",
            "Median value is: 35.0 in col: Customer_Age\n"
          ]
        },
        {
          "data": {
            "text/html": [
              "<div>\n",
              "<style scoped>\n",
              "    .dataframe tbody tr th:only-of-type {\n",
              "        vertical-align: middle;\n",
              "    }\n",
              "\n",
              "    .dataframe tbody tr th {\n",
              "        vertical-align: top;\n",
              "    }\n",
              "\n",
              "    .dataframe thead th {\n",
              "        text-align: right;\n",
              "    }\n",
              "</style>\n",
              "<table border=\"1\" class=\"dataframe\">\n",
              "  <thead>\n",
              "    <tr style=\"text-align: right;\">\n",
              "      <th></th>\n",
              "      <th>Revenue</th>\n",
              "      <th>Order_Quantity</th>\n",
              "      <th>Unit_Cost</th>\n",
              "      <th>Unit_Price</th>\n",
              "      <th>Customer_Age</th>\n",
              "    </tr>\n",
              "  </thead>\n",
              "  <tbody>\n",
              "    <tr>\n",
              "      <th>0</th>\n",
              "      <td>950</td>\n",
              "      <td>8.0</td>\n",
              "      <td>45</td>\n",
              "      <td>120.0</td>\n",
              "      <td>19</td>\n",
              "    </tr>\n",
              "    <tr>\n",
              "      <th>1</th>\n",
              "      <td>950</td>\n",
              "      <td>8.0</td>\n",
              "      <td>45</td>\n",
              "      <td>120.0</td>\n",
              "      <td>19</td>\n",
              "    </tr>\n",
              "    <tr>\n",
              "      <th>2</th>\n",
              "      <td>594</td>\n",
              "      <td>5.0</td>\n",
              "      <td>45</td>\n",
              "      <td>120.0</td>\n",
              "      <td>29</td>\n",
              "    </tr>\n",
              "    <tr>\n",
              "      <th>3</th>\n",
              "      <td>832</td>\n",
              "      <td>7.0</td>\n",
              "      <td>45</td>\n",
              "      <td>120.0</td>\n",
              "      <td>29</td>\n",
              "    </tr>\n",
              "    <tr>\n",
              "      <th>4</th>\n",
              "      <td>238</td>\n",
              "      <td>2.0</td>\n",
              "      <td>45</td>\n",
              "      <td>120.0</td>\n",
              "      <td>29</td>\n",
              "    </tr>\n",
              "    <tr>\n",
              "      <th>...</th>\n",
              "      <td>...</td>\n",
              "      <td>...</td>\n",
              "      <td>...</td>\n",
              "      <td>...</td>\n",
              "      <td>...</td>\n",
              "    </tr>\n",
              "    <tr>\n",
              "      <th>495</th>\n",
              "      <td>64</td>\n",
              "      <td>13.0</td>\n",
              "      <td>2</td>\n",
              "      <td>5.0</td>\n",
              "      <td>37</td>\n",
              "    </tr>\n",
              "    <tr>\n",
              "      <th>496</th>\n",
              "      <td>153</td>\n",
              "      <td>31.0</td>\n",
              "      <td>2</td>\n",
              "      <td>5.0</td>\n",
              "      <td>37</td>\n",
              "    </tr>\n",
              "    <tr>\n",
              "      <th>497</th>\n",
              "      <td>54</td>\n",
              "      <td>11.0</td>\n",
              "      <td>2</td>\n",
              "      <td>5.0</td>\n",
              "      <td>37</td>\n",
              "    </tr>\n",
              "    <tr>\n",
              "      <th>498</th>\n",
              "      <td>25</td>\n",
              "      <td>5.0</td>\n",
              "      <td>2</td>\n",
              "      <td>5.0</td>\n",
              "      <td>37</td>\n",
              "    </tr>\n",
              "    <tr>\n",
              "      <th>499</th>\n",
              "      <td>30</td>\n",
              "      <td>6.0</td>\n",
              "      <td>2</td>\n",
              "      <td>5.0</td>\n",
              "      <td>37</td>\n",
              "    </tr>\n",
              "  </tbody>\n",
              "</table>\n",
              "<p>500 rows × 5 columns</p>\n",
              "</div>"
            ],
            "text/plain": [
              "     Revenue  Order_Quantity  Unit_Cost  Unit_Price  Customer_Age\n",
              "0        950             8.0         45       120.0            19\n",
              "1        950             8.0         45       120.0            19\n",
              "2        594             5.0         45       120.0            29\n",
              "3        832             7.0         45       120.0            29\n",
              "4        238             2.0         45       120.0            29\n",
              "..       ...             ...        ...         ...           ...\n",
              "495       64            13.0          2         5.0            37\n",
              "496      153            31.0          2         5.0            37\n",
              "497       54            11.0          2         5.0            37\n",
              "498       25             5.0          2         5.0            37\n",
              "499       30             6.0          2         5.0            37\n",
              "\n",
              "[500 rows x 5 columns]"
            ]
          },
          "execution_count": 14,
          "metadata": {},
          "output_type": "execute_result"
        }
      ],
      "source": [
        "def handle_outlier(selected_out):\n",
        "    mycols=selected_out.columns\n",
        "    print(mycols)\n",
        "    for col in mycols:\n",
        "        Q1=selected_out[col].quantile(0.25)\n",
        "        Q3=selected_out[col].quantile(0.75)\n",
        "        IQR=Q3-Q1\n",
        "        LF=Q1-(1.5*IQR)\n",
        "        UF=Q3+(1.5*IQR)\n",
        "        print(\"lower fence:\",LF,\"in column:\",col)\n",
        "        print(\"upper fence:\",UF,\"in column:\",col)\n",
        "        mymedian=selected_out[col].median()\n",
        "        print(\"Median value is:\",mymedian,\"in col:\",col)\n",
        "        df_selectedm.loc[df_selectedm[col]<LF,col]=mymedian\n",
        "        df_selectedm.loc[df_selectedm[col]<LF,col]=mymedian\n",
        "    return selected_out\n",
        "handle_outlier(df_selectedm)"
      ]
    },
    {
      "cell_type": "code",
      "execution_count": null,
      "id": "0244d978-0f0d-4883-a4e1-4424df2bb696",
      "metadata": {
        "id": "0244d978-0f0d-4883-a4e1-4424df2bb696",
        "outputId": "d10fda11-b4a6-4111-cb28-c721116ef141"
      },
      "outputs": [
        {
          "data": {
            "image/png": "[encoded data removed]",
            "text/plain": [
              "<Figure size 1000x800 with 2 Axes>"
            ]
          },
          "metadata": {},
          "output_type": "display_data"
        }
      ],
      "source": [
        "correlation=df_selectedm.corr()\n",
        "plt.figure(figsize=(10,8))\n",
        "sns.heatmap(df_selected.corr(), annot=True, cmap=\"PiYG\")\n",
        "plt.title(\"Correlation Heatmap\")\n",
        "plt.show()"
      ]
    },
    {
      "cell_type": "markdown",
      "id": "d63e8799-4929-4139-b097-5a2e5aaad281",
      "metadata": {
        "id": "d63e8799-4929-4139-b097-5a2e5aaad281"
      },
      "source": [
        "# so here i am selecting feature with the higest correlatin with revenue as unit cost column"
      ]
    },
    {
      "cell_type": "markdown",
      "id": "f4794b76-72ee-4603-a3bd-616421cac9b7",
      "metadata": {
        "id": "f4794b76-72ee-4603-a3bd-616421cac9b7"
      },
      "source": [
        "# TASK 3"
      ]
    },
    {
      "cell_type": "code",
      "execution_count": null,
      "id": "9bc878de-02f7-426b-8c62-a65d57175d68",
      "metadata": {
        "id": "9bc878de-02f7-426b-8c62-a65d57175d68"
      },
      "outputs": [],
      "source": [
        "x=df_selectedm[\"Unit_Cost\"]\n",
        "y=df_selectedm[\"Revenue\"]"
      ]
    },
    {
      "cell_type": "code",
      "execution_count": null,
      "id": "a40bb1ef-c779-48e5-9654-3699be3cb6e0",
      "metadata": {
        "id": "a40bb1ef-c779-48e5-9654-3699be3cb6e0",
        "outputId": "87887a0e-c88f-4866-e571-3bfa44ef41f8"
      },
      "outputs": [
        {
          "data": {
            "text/plain": [
              "(500,)"
            ]
          },
          "execution_count": 17,
          "metadata": {},
          "output_type": "execute_result"
        }
      ],
      "source": [
        "x.shape"
      ]
    },
    {
      "cell_type": "code",
      "execution_count": null,
      "id": "7d75a267-d1a7-4fd6-8b17-0d3a23b0044c",
      "metadata": {
        "id": "7d75a267-d1a7-4fd6-8b17-0d3a23b0044c",
        "outputId": "457a94e4-ad3b-4405-e8e8-09cd338c42c2"
      },
      "outputs": [
        {
          "data": {
            "text/plain": [
              "(500,)"
            ]
          },
          "execution_count": 18,
          "metadata": {},
          "output_type": "execute_result"
        }
      ],
      "source": [
        "y.shape"
      ]
    },
    {
      "cell_type": "code",
      "execution_count": null,
      "id": "2f52b491-561c-43b7-80bc-2b143b5d9af5",
      "metadata": {
        "id": "2f52b491-561c-43b7-80bc-2b143b5d9af5"
      },
      "outputs": [],
      "source": [
        "scaler=MinMaxScaler()"
      ]
    },
    {
      "cell_type": "code",
      "execution_count": null,
      "id": "044c544c-a6f0-48e4-9af0-7bf992c622c1",
      "metadata": {
        "id": "044c544c-a6f0-48e4-9af0-7bf992c622c1"
      },
      "outputs": [],
      "source": [
        "scaled_x=pd.DataFrame(scaler.fit_transform(x.to_numpy().reshape(-1,1)))"
      ]
    },
    {
      "cell_type": "code",
      "execution_count": null,
      "id": "edaef8fb-70eb-4870-b825-5e0727a2b3b2",
      "metadata": {
        "id": "edaef8fb-70eb-4870-b825-5e0727a2b3b2"
      },
      "outputs": [],
      "source": [
        "scaled_y=pd.DataFrame(scaler.fit_transform(y.to_numpy().reshape(-1,1)))"
      ]
    },
    {
      "cell_type": "markdown",
      "id": "f90ff7d8-24fa-4cab-a80d-2813b91ee1e1",
      "metadata": {
        "id": "f90ff7d8-24fa-4cab-a80d-2813b91ee1e1"
      },
      "source": [
        "# spliting"
      ]
    },
    {
      "cell_type": "code",
      "execution_count": null,
      "id": "ee999fb0-d7e2-4bcf-a796-86dd79369a38",
      "metadata": {
        "id": "ee999fb0-d7e2-4bcf-a796-86dd79369a38"
      },
      "outputs": [],
      "source": [
        "x_train,x_test,y_train,y_test=train_test_split(scaled_x,scaled_y,train_size=0.7,random_state=42)"
      ]
    },
    {
      "cell_type": "code",
      "execution_count": null,
      "id": "3b3366b9-1eb4-4b21-868c-7196f2687cba",
      "metadata": {
        "id": "3b3366b9-1eb4-4b21-868c-7196f2687cba",
        "outputId": "020b80f7-bfd4-46c2-df44-ddeda6f2f92e"
      },
      "outputs": [
        {
          "name": "stdout",
          "output_type": "stream",
          "text": [
            "(350, 1)\n",
            "(150, 1)\n",
            "(350, 1)\n",
            "(150, 1)\n"
          ]
        }
      ],
      "source": [
        "print(x_train.shape)\n",
        "print(x_test.shape)\n",
        "print(y_train.shape)\n",
        "print(y_test.shape)"
      ]
    },
    {
      "cell_type": "markdown",
      "id": "664c7a73-fc6b-4025-9608-0d3debbff89a",
      "metadata": {
        "id": "664c7a73-fc6b-4025-9608-0d3debbff89a"
      },
      "source": [
        "# ML STEPS"
      ]
    },
    {
      "cell_type": "code",
      "execution_count": null,
      "id": "17711ab5-e482-4cf2-b45d-6dfa4a645b54",
      "metadata": {
        "id": "17711ab5-e482-4cf2-b45d-6dfa4a645b54"
      },
      "outputs": [],
      "source": [
        "# IMPORT THE MODULE\n",
        "from sklearn.linear_model import LinearRegression"
      ]
    },
    {
      "cell_type": "code",
      "execution_count": null,
      "id": "1e37c949-a712-48e7-a258-fc92085747a9",
      "metadata": {
        "id": "1e37c949-a712-48e7-a258-fc92085747a9"
      },
      "outputs": [],
      "source": [
        "# STEP 2 CREATE OBJECT\n",
        "li_reg=LinearRegression()"
      ]
    },
    {
      "cell_type": "code",
      "execution_count": null,
      "id": "572135e6-4d88-4606-86f8-f462bd303fd7",
      "metadata": {
        "id": "572135e6-4d88-4606-86f8-f462bd303fd7"
      },
      "outputs": [],
      "source": [
        "# step3: train or fit the model\n",
        "lin_reg_model=li_reg.fit(x_train.to_numpy().reshape(-1,1),y_train.to_numpy().reshape(-1,1))"
      ]
    },
    {
      "cell_type": "code",
      "execution_count": null,
      "id": "21374334-e878-4378-8b72-5e0d58d5d016",
      "metadata": {
        "id": "21374334-e878-4378-8b72-5e0d58d5d016",
        "outputId": "580e4bf9-a2e1-4034-aa50-eb613243b3ca"
      },
      "outputs": [
        {
          "name": "stdout",
          "output_type": "stream",
          "text": [
            "0.4282232386283017\n"
          ]
        }
      ],
      "source": [
        "# step4: test the model\n",
        "print(lin_reg_model.score(x_train.to_numpy().reshape(-1,1),y_train.to_numpy().reshape(-1,1)))"
      ]
    },
    {
      "cell_type": "code",
      "execution_count": null,
      "id": "0de6f120-0a4d-4905-ac73-40fe9b891549",
      "metadata": {
        "id": "0de6f120-0a4d-4905-ac73-40fe9b891549"
      },
      "outputs": [],
      "source": [
        "# step5:evaluate the performance\n",
        "y_pred=lin_reg_model.predict(x_test.to_numpy().reshape(-1,1))"
      ]
    },
    {
      "cell_type": "code",
      "execution_count": null,
      "id": "cd320b40-6701-4844-8628-2cf70059578b",
      "metadata": {
        "id": "cd320b40-6701-4844-8628-2cf70059578b",
        "outputId": "193638ad-8385-45de-8c0b-53a08e17d3b9"
      },
      "outputs": [
        {
          "name": "stdout",
          "output_type": "stream",
          "text": [
            "0.2218601472451136\n"
          ]
        }
      ],
      "source": [
        "# step6: evaluate testing peformance\n",
        "print(lin_reg_model.score(y_test.to_numpy().reshape(-1,1),y_pred))"
      ]
    },
    {
      "cell_type": "code",
      "execution_count": null,
      "id": "dcefa75c-0349-4439-86dc-56b7a11ba4b4",
      "metadata": {
        "id": "dcefa75c-0349-4439-86dc-56b7a11ba4b4",
        "outputId": "0d313176-ba99-4113-f392-114d4b929582"
      },
      "outputs": [
        {
          "data": {
            "text/plain": [
              "0.2366241363910518"
            ]
          },
          "execution_count": 30,
          "metadata": {},
          "output_type": "execute_result"
        }
      ],
      "source": [
        "my_slope=lin_reg_model.coef_\n",
        "my_slope[0,0]"
      ]
    },
    {
      "cell_type": "code",
      "execution_count": null,
      "id": "3ba97b33-3ad6-45c2-85df-3226309ffafe",
      "metadata": {
        "id": "3ba97b33-3ad6-45c2-85df-3226309ffafe",
        "outputId": "489d291a-c207-4766-caaa-24a991102e2b"
      },
      "outputs": [
        {
          "data": {
            "text/plain": [
              "0.026571681049091724"
            ]
          },
          "execution_count": 36,
          "metadata": {},
          "output_type": "execute_result"
        }
      ],
      "source": [
        "my_intercept=lin_reg_model.intercept_\n",
        "my_intercept[0]"
      ]
    },
    {
      "cell_type": "markdown",
      "id": "433a3c8b-31ca-40a2-9446-0c8abb8b3aae",
      "metadata": {
        "id": "433a3c8b-31ca-40a2-9446-0c8abb8b3aae"
      },
      "source": [
        "# TASK 4"
      ]
    },
    {
      "cell_type": "code",
      "execution_count": null,
      "id": "f305e547-0802-4f81-9251-4cb9dccb74dc",
      "metadata": {
        "id": "f305e547-0802-4f81-9251-4cb9dccb74dc"
      },
      "outputs": [],
      "source": [
        "from sklearn.metrics import mean_squared_error\n",
        "from sklearn.metrics import mean_absolute_error\n",
        "from sklearn.metrics import r2_score"
      ]
    },
    {
      "cell_type": "code",
      "execution_count": null,
      "id": "3a4996e8-accc-430b-bd4a-cd3d5b9d525c",
      "metadata": {
        "id": "3a4996e8-accc-430b-bd4a-cd3d5b9d525c",
        "outputId": "96984035-4b65-4880-afb6-98fc6452e30d"
      },
      "outputs": [
        {
          "name": "stdout",
          "output_type": "stream",
          "text": [
            "MSE= 0.022817010826447815\n"
          ]
        }
      ],
      "source": [
        "mse=mean_squared_error(y_test,y_pred)# average sum of all squared error\n",
        "print(\"MSE=\",mse)"
      ]
    },
    {
      "cell_type": "code",
      "execution_count": null,
      "id": "55abbffa-2801-48b0-9f46-902906f9f683",
      "metadata": {
        "id": "55abbffa-2801-48b0-9f46-902906f9f683",
        "outputId": "64dd3952-5b6e-4d46-e2ac-5195fd31ee11"
      },
      "outputs": [
        {
          "name": "stdout",
          "output_type": "stream",
          "text": [
            "MAE= 0.06829619344405405\n"
          ]
        }
      ],
      "source": [
        "mae=(mean_absolute_error(y_test,y_pred)) # average sum of all absolute error\n",
        "print(\"MAE=\",mae)"
      ]
    },
    {
      "cell_type": "code",
      "execution_count": null,
      "id": "480ada58-96d5-43bb-829f-feb5b3945a6b",
      "metadata": {
        "id": "480ada58-96d5-43bb-829f-feb5b3945a6b",
        "outputId": "02aee23a-d920-40ab-98ed-e95d5307894d"
      },
      "outputs": [
        {
          "name": "stdout",
          "output_type": "stream",
          "text": [
            "R2= 0.36413667544433326\n"
          ]
        }
      ],
      "source": [
        "r_squared= r2_score(y_test,y_pred)\n",
        "print(\"R2=\",r_squared) # checks relaiabality of the model"
      ]
    },
    {
      "cell_type": "code",
      "execution_count": null,
      "id": "eb0a0655-7314-4a8f-abb8-4f5709097b82",
      "metadata": {
        "id": "eb0a0655-7314-4a8f-abb8-4f5709097b82",
        "outputId": "05e5d733-4b4c-4a10-b571-f8aed368a388"
      },
      "outputs": [
        {
          "data": {
            "text/html": [
              "<div>\n",
              "<style scoped>\n",
              "    .dataframe tbody tr th:only-of-type {\n",
              "        vertical-align: middle;\n",
              "    }\n",
              "\n",
              "    .dataframe tbody tr th {\n",
              "        vertical-align: top;\n",
              "    }\n",
              "\n",
              "    .dataframe thead th {\n",
              "        text-align: right;\n",
              "    }\n",
              "</style>\n",
              "<table border=\"1\" class=\"dataframe\">\n",
              "  <thead>\n",
              "    <tr style=\"text-align: right;\">\n",
              "      <th></th>\n",
              "    </tr>\n",
              "  </thead>\n",
              "  <tbody>\n",
              "  </tbody>\n",
              "</table>\n",
              "</div>"
            ],
            "text/plain": [
              "Empty DataFrame\n",
              "Columns: []\n",
              "Index: []"
            ]
          },
          "execution_count": 38,
          "metadata": {},
          "output_type": "execute_result"
        }
      ],
      "source": [
        "df_results=pd.DataFrame()\n",
        "df_results"
      ]
    },
    {
      "cell_type": "code",
      "execution_count": null,
      "id": "ee2d91f6-0f6c-4381-b596-389e4118c8bf",
      "metadata": {
        "id": "ee2d91f6-0f6c-4381-b596-389e4118c8bf"
      },
      "outputs": [],
      "source": [
        "y_test.reset_index(inplace=True)"
      ]
    },
    {
      "cell_type": "code",
      "execution_count": null,
      "id": "f17dd63e-d29d-4d9a-80b9-215318c54e9e",
      "metadata": {
        "id": "f17dd63e-d29d-4d9a-80b9-215318c54e9e",
        "outputId": "0c283ce1-f79c-4361-8539-aabaef9714d7"
      },
      "outputs": [
        {
          "data": {
            "text/html": [
              "<div>\n",
              "<style scoped>\n",
              "    .dataframe tbody tr th:only-of-type {\n",
              "        vertical-align: middle;\n",
              "    }\n",
              "\n",
              "    .dataframe tbody tr th {\n",
              "        vertical-align: top;\n",
              "    }\n",
              "\n",
              "    .dataframe thead th {\n",
              "        text-align: right;\n",
              "    }\n",
              "</style>\n",
              "<table border=\"1\" class=\"dataframe\">\n",
              "  <thead>\n",
              "    <tr style=\"text-align: right;\">\n",
              "      <th></th>\n",
              "      <th>predictions</th>\n",
              "      <th>actuals</th>\n",
              "      <th>residuals</th>\n",
              "    </tr>\n",
              "  </thead>\n",
              "  <tbody>\n",
              "    <tr>\n",
              "      <th>0</th>\n",
              "      <td>0.026572</td>\n",
              "      <td>0.016578</td>\n",
              "      <td>0.009994</td>\n",
              "    </tr>\n",
              "    <tr>\n",
              "      <th>1</th>\n",
              "      <td>0.205078</td>\n",
              "      <td>0.165496</td>\n",
              "      <td>0.039582</td>\n",
              "    </tr>\n",
              "    <tr>\n",
              "      <th>2</th>\n",
              "      <td>0.026572</td>\n",
              "      <td>0.005620</td>\n",
              "      <td>0.020952</td>\n",
              "    </tr>\n",
              "    <tr>\n",
              "      <th>3</th>\n",
              "      <td>0.034874</td>\n",
              "      <td>0.054229</td>\n",
              "      <td>-0.019354</td>\n",
              "    </tr>\n",
              "    <tr>\n",
              "      <th>4</th>\n",
              "      <td>0.263196</td>\n",
              "      <td>0.042709</td>\n",
              "      <td>0.220487</td>\n",
              "    </tr>\n",
              "    <tr>\n",
              "      <th>...</th>\n",
              "      <td>...</td>\n",
              "      <td>...</td>\n",
              "      <td>...</td>\n",
              "    </tr>\n",
              "    <tr>\n",
              "      <th>145</th>\n",
              "      <td>0.026572</td>\n",
              "      <td>0.039056</td>\n",
              "      <td>-0.012484</td>\n",
              "    </tr>\n",
              "    <tr>\n",
              "      <th>146</th>\n",
              "      <td>0.205078</td>\n",
              "      <td>0.032031</td>\n",
              "      <td>0.173046</td>\n",
              "    </tr>\n",
              "    <tr>\n",
              "      <th>147</th>\n",
              "      <td>0.026572</td>\n",
              "      <td>0.008429</td>\n",
              "      <td>0.018142</td>\n",
              "    </tr>\n",
              "    <tr>\n",
              "      <th>148</th>\n",
              "      <td>0.026572</td>\n",
              "      <td>0.015173</td>\n",
              "      <td>0.011399</td>\n",
              "    </tr>\n",
              "    <tr>\n",
              "      <th>149</th>\n",
              "      <td>0.026572</td>\n",
              "      <td>0.033436</td>\n",
              "      <td>-0.006865</td>\n",
              "    </tr>\n",
              "  </tbody>\n",
              "</table>\n",
              "<p>150 rows × 3 columns</p>\n",
              "</div>"
            ],
            "text/plain": [
              "     predictions   actuals  residuals\n",
              "0       0.026572  0.016578   0.009994\n",
              "1       0.205078  0.165496   0.039582\n",
              "2       0.026572  0.005620   0.020952\n",
              "3       0.034874  0.054229  -0.019354\n",
              "4       0.263196  0.042709   0.220487\n",
              "..           ...       ...        ...\n",
              "145     0.026572  0.039056  -0.012484\n",
              "146     0.205078  0.032031   0.173046\n",
              "147     0.026572  0.008429   0.018142\n",
              "148     0.026572  0.015173   0.011399\n",
              "149     0.026572  0.033436  -0.006865\n",
              "\n",
              "[150 rows x 3 columns]"
            ]
          },
          "execution_count": 42,
          "metadata": {},
          "output_type": "execute_result"
        }
      ],
      "source": [
        "df_results[\"predictions\"]=pd.DataFrame(y_pred)\n",
        "df_results[\"actuals\"]=y_test.loc[:,0]\n",
        "df_results[\"residuals\"]=abs(df_results[\"predictions\"])-abs(df_results[\"actuals\"])\n",
        "df_results"
      ]
    },
    {
      "cell_type": "code",
      "execution_count": null,
      "id": "810b44b4-7219-4b46-8094-d102ab7ea624",
      "metadata": {
        "id": "810b44b4-7219-4b46-8094-d102ab7ea624",
        "outputId": "4967c1ad-b946-4848-a6ea-5d99fbe08cba"
      },
      "outputs": [
        {
          "data": {
            "image/png": "[encoded data removed]",
            "text/plain": [
              "<Figure size 640x480 with 1 Axes>"
            ]
          },
          "metadata": {},
          "output_type": "display_data"
        }
      ],
      "source": [
        "plt.hist(df_results[\"residuals\"],edgecolor=\"black\")\n",
        "plt.show()"
      ]
    },
    {
      "cell_type": "code",
      "execution_count": null,
      "id": "cbd1c070-9e3f-41bb-a8fb-5c7f779869b6",
      "metadata": {
        "id": "cbd1c070-9e3f-41bb-a8fb-5c7f779869b6",
        "outputId": "0bcc1f19-4b2a-43ca-e2f0-c850acd66a7a"
      },
      "outputs": [
        {
          "name": "stderr",
          "output_type": "stream",
          "text": [
            "C:\\ProgramData\\anaconda3\\Lib\\site-packages\\seaborn\\_oldcore.py:1119: FutureWarning: use_inf_as_na option is deprecated and will be removed in a future version. Convert inf values to NaN before operating instead.\n",
            "  with pd.option_context('mode.use_inf_as_na', True):\n"
          ]
        },
        {
          "data": {
            "image/png": "[encoded data removed]",
            "text/plain": [
              "<Figure size 640x480 with 1 Axes>"
            ]
          },
          "metadata": {},
          "output_type": "display_data"
        }
      ],
      "source": [
        "sns.histplot(df_results[\"residuals\"],kde=True)\n",
        "plt.show()"
      ]
    },
    {
      "cell_type": "code",
      "execution_count": null,
      "id": "fdaead1e-1b1d-4a3e-8f27-634ac6bd3f37",
      "metadata": {
        "id": "fdaead1e-1b1d-4a3e-8f27-634ac6bd3f37",
        "outputId": "07fe9d46-7650-4f21-e681-22f786fb720b"
      },
      "outputs": [
        {
          "data": {
            "image/png": "[encoded data removed]",
            "text/plain": [
              "<Figure size 640x480 with 1 Axes>"
            ]
          },
          "metadata": {},
          "output_type": "display_data"
        }
      ],
      "source": [
        "sns.residplot(data=df_results,x=df_results[\"predictions\"],y=df_results[\"residuals\"])\n",
        "plt.show()"
      ]
    },
    {
      "cell_type": "markdown",
      "id": "297e65fc-048c-41c0-8b2c-89ae144d7357",
      "metadata": {
        "id": "297e65fc-048c-41c0-8b2c-89ae144d7357"
      },
      "source": [
        "# conclusion:\n",
        "# model is not reliable\n",
        "# cannot use this model\n",
        "# we need to improve the model"
      ]
    },
    {
      "cell_type": "code",
      "execution_count": null,
      "id": "d8ac92db-09d9-4037-b19a-6c5b0225eb62",
      "metadata": {
        "id": "d8ac92db-09d9-4037-b19a-6c5b0225eb62"
      },
      "outputs": [],
      "source": []
    }
  ],
  "metadata": {
    "kernelspec": {
      "display_name": "Python 3 (ipykernel)",
      "language": "python",
      "name": "python3"
    },
    "language_info": {
      "codemirror_mode": {
        "name": "ipython",
        "version": 3
      },
      "file_extension": ".py",
      "mimetype": "text/x-python",
      "name": "python",
      "nbconvert_exporter": "python",
      "pygments_lexer": "ipython3",
      "version": "3.11.7"
    },
    "colab": {
      "provenance": []
    }
  },
  "nbformat": 4,
  "nbformat_minor": 5
}